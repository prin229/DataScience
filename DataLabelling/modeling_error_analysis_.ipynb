{
  "cells": [
    {
      "cell_type": "code",
      "execution_count": null,
      "metadata": {
        "id": "9bf5e477"
      },
      "outputs": [],
      "source": [
        "import pandas as pd\n",
        "import numpy as np\n",
        "import cv2\n",
        "import os\n",
        "import matplotlib.pyplot as plt\n",
        "from tensorflow.keras.utils import to_categorical\n",
        "from sklearn.model_selection import StratifiedKFold\n",
        "from keras.preprocessing import image\n",
        "from keras.applications import vgg16\n",
        "from keras.models import Sequential,Model\n",
        "from keras.layers import Flatten,Dense,Dropout\n",
        "from sklearn.metrics import precision_recall_fscore_support\n",
        "from pathlib import Path"
      ],
      "id": "9bf5e477"
    },
    {
      "cell_type": "code",
      "execution_count": null,
      "metadata": {
        "id": "19fff87d"
      },
      "outputs": [],
      "source": [
        "#reading the balanceddata\n",
        "imgarr=[]\n",
        "labelarr=[]\n",
        "for i in os.listdir('/content/Balanced_Dataset/'):\n",
        "  if i != '.ipynb_checkpoints':#ignoring checkpoints if present in the same directory\n",
        "    for j in os.listdir(os.path.join('/content/Balanced_Dataset/',i)):\n",
        "      try:\n",
        "        arr=cv2.imread('/content/Balanced_Dataset/'+i+'/'+j,cv2.IMREAD_GRAYSCALE)\n",
        "        imgarr.append(arr.ravel())\n",
        "        labelarr.append(i[0])\n",
        "      except:\n",
        "        continue  "
      ],
      "id": "19fff87d"
    },
    {
      "cell_type": "code",
      "execution_count": null,
      "metadata": {
        "colab": {
          "base_uri": "https://localhost:8080/"
        },
        "id": "48f3597e",
        "outputId": "f811bbc4-d32f-412f-b5ff-f0a788cf482c"
      },
      "outputs": [
        {
          "output_type": "stream",
          "name": "stdout",
          "text": [
            "TRAIN: [    0     1     2 ... 28137 28138 28139] TEST: [  140   141   142 ... 29117 29118 29119]\n"
          ]
        }
      ],
      "source": [
        "#creating test and train set , since we will be manually labeling the 10% of the data that goes into training\n",
        "#the classifier,i am splitting the data into 10 fold using stratified k fold splitter to ensure equal class \n",
        "#distribution across train and test dataset\n",
        "X = np.array(imgarr)\n",
        "y = np.array(labelarr)\n",
        "skf = StratifiedKFold(n_splits=8)\n",
        "for test_index,train_index in skf.split(X, y):\n",
        "    print(\"TRAIN:\", train_index, \"TEST:\", test_index)\n",
        "    X_train, X_test = X[train_index], X[test_index]\n",
        "    y_train, y_test = y[train_index], y[test_index]\n",
        "    break"
      ],
      "id": "48f3597e"
    },
    {
      "cell_type": "code",
      "execution_count": null,
      "metadata": {
        "colab": {
          "base_uri": "https://localhost:8080/"
        },
        "id": "IAMQQmrQDET4",
        "outputId": "87178f21-feb0-4b07-e13e-588a8589d18f"
      },
      "outputs": [
        {
          "output_type": "stream",
          "name": "stdout",
          "text": [
            "(25480,) (3640,)\n"
          ]
        },
        {
          "output_type": "execute_result",
          "data": {
            "text/plain": [
              "((3640, 784), (25480, 784))"
            ]
          },
          "metadata": {},
          "execution_count": 7
        }
      ],
      "source": [
        "#checking size of the train and test set\n",
        "print(y_test.shape,y_train.shape)\n",
        "X_train.shape,X_test.shape"
      ],
      "id": "IAMQQmrQDET4"
    },
    {
      "cell_type": "code",
      "execution_count": null,
      "metadata": {
        "id": "63ecbe08"
      },
      "outputs": [],
      "source": [
        "#defining key value pair for label encoding\n",
        "key_val = {0:'A',1:'B',2:'C',3:'D',4:'E',5:'F',6:'G',7:'H',8:'I',9:'J',10:'K',11:'L',12:'M',13:'N',14:'O',15:'P',16:'Q',17:'R',18:'S',19:'T',20:'U',21:'V',22:'W',23:'X',24:'Y',25:'Z'}"
      ],
      "id": "63ecbe08"
    },
    {
      "cell_type": "code",
      "execution_count": null,
      "metadata": {
        "id": "0bae7f2f"
      },
      "outputs": [],
      "source": [
        "#for label encoding\n",
        "label_encoder=dict()\n",
        "for i in key_val.keys():\n",
        "    label_encoder[key_val[i]]=i \n",
        "y_test=np.array([label_encoder[i] for i in y_test])\n",
        "y_train=np.array([label_encoder[i] for i in y_train])"
      ],
      "id": "0bae7f2f"
    },
    {
      "cell_type": "code",
      "execution_count": null,
      "metadata": {
        "id": "oLxks-ev57C0"
      },
      "outputs": [],
      "source": [
        "#converting into the categorical classes\n",
        "train_Y_one_hot = to_categorical(y_train)\n",
        "test_Y_one_hot = to_categorical(y_test)"
      ],
      "id": "oLxks-ev57C0"
    },
    {
      "cell_type": "code",
      "execution_count": null,
      "metadata": {
        "colab": {
          "base_uri": "https://localhost:8080/"
        },
        "id": "b7B-YMVcuYxO",
        "outputId": "1bea9ed5-7229-44d4-f527-eb9e736b8a75"
      },
      "outputs": [
        {
          "output_type": "execute_result",
          "data": {
            "text/plain": [
              "((3640, 784), (25480, 784))"
            ]
          },
          "metadata": {},
          "execution_count": 12
        }
      ],
      "source": [
        "#checking the size of the train and test set\n",
        "X_train.shape,X_test.shape"
      ],
      "id": "b7B-YMVcuYxO"
    },
    {
      "cell_type": "code",
      "execution_count": null,
      "metadata": {
        "colab": {
          "base_uri": "https://localhost:8080/"
        },
        "id": "mzGYEmiz1-mQ",
        "outputId": "7d56b94a-5382-49d1-fff1-dba0381f9903"
      },
      "outputs": [
        {
          "output_type": "execute_result",
          "data": {
            "text/plain": [
              "((3640, 784, 3), (25480, 784, 3))"
            ]
          },
          "metadata": {},
          "execution_count": 13
        }
      ],
      "source": [
        "# Convert the images into 3 channels\n",
        "X_train=np.dstack([X_train]*3)\n",
        "X_test=np.dstack([X_test]*3)\n",
        "X_train.shape,X_test.shape"
      ],
      "id": "mzGYEmiz1-mQ"
    },
    {
      "cell_type": "code",
      "execution_count": null,
      "metadata": {
        "id": "LMdvzp2T1IIQ"
      },
      "outputs": [],
      "source": [
        "#Reshape images in the tensor format\n",
        "X_train = X_train.reshape(-1, 28,28,3)\n",
        "X_test= X_test.reshape (-1,28,28,3)"
      ],
      "id": "LMdvzp2T1IIQ"
    },
    {
      "cell_type": "code",
      "execution_count": null,
      "metadata": {
        "id": "295kywsM0VVq"
      },
      "outputs": [],
      "source": [
        "from keras.preprocessing.image import img_to_array, array_to_img\n",
        "train_X = np.asarray([img_to_array(array_to_img(im, scale=False).resize((32,32))) for im in X_train])\n",
        "test_X = np.asarray([img_to_array(array_to_img(im, scale=False).resize((32,32))) for im in X_test])"
      ],
      "id": "295kywsM0VVq"
    },
    {
      "cell_type": "code",
      "execution_count": null,
      "metadata": {
        "colab": {
          "base_uri": "https://localhost:8080/"
        },
        "id": "dAzU4SEGFxUg",
        "outputId": "599e8831-92b9-4272-9589-a5fe73223552"
      },
      "outputs": [
        {
          "output_type": "execute_result",
          "data": {
            "text/plain": [
              "((3640, 32, 32, 3), (25480, 32, 32, 3))"
            ]
          },
          "metadata": {},
          "execution_count": 16
        }
      ],
      "source": [
        "#checking for the size\n",
        "train_X.shape,test_X.shape"
      ],
      "id": "dAzU4SEGFxUg"
    },
    {
      "cell_type": "code",
      "execution_count": null,
      "metadata": {
        "id": "BucAjgQlKpie"
      },
      "outputs": [],
      "source": [
        "#defining the metrics\n",
        "def accuracy_metric(predicted_prob,test_Y_one_hot):\n",
        "  predicted=[]\n",
        "  for i in predicted_prob:\n",
        "    predicted.append(np.argmax(i))\n",
        "\n",
        "  actual=[]\n",
        "  for j in test_Y_one_hot:\n",
        "    actual.append(np.argmax(j))\n",
        "  correct = 0\n",
        "  for i in range(len(actual)):\n",
        "    if actual[i] == predicted[i]:\n",
        "      correct += 1\n",
        "  return correct / float(len(actual)) * 100.0\n",
        "\n"
      ],
      "id": "BucAjgQlKpie"
    },
    {
      "cell_type": "code",
      "source": [
        "#defining the average precision , recall and Fscore\n",
        "def prf_metric(predicted_prob,test_Y_one_hot):\n",
        "  predicted=[]\n",
        "  for i in predicted_prob:\n",
        "    predicted.append(np.argmax(i))\n",
        "\n",
        "  actual=[]\n",
        "  for j in test_Y_one_hot:\n",
        "    actual.append(np.argmax(j))\n",
        "  correct = 0\n",
        "  res=precision_recall_fscore_support(actual, predicted, average='weighted')\n",
        "  print(\"Avg precision :{} Avg recall : {} Avg fcore: {}\".format(res[0],res[1],res[2]))"
      ],
      "metadata": {
        "id": "1PCNmi9nU9Pi"
      },
      "id": "1PCNmi9nU9Pi",
      "execution_count": null,
      "outputs": []
    },
    {
      "cell_type": "code",
      "execution_count": null,
      "metadata": {
        "colab": {
          "base_uri": "https://localhost:8080/",
          "height": 417
        },
        "id": "fnmCG4-Bm7Tw",
        "outputId": "ec5f08c0-8a4d-4a42-cd43-53a55e1e1288"
      },
      "outputs": [
        {
          "output_type": "stream",
          "name": "stdout",
          "text": [
            "Epoch 1/10\n",
            "114/114 [==============================] - 38s 326ms/step - loss: 3.3551 - acc: 0.4396\n",
            "Epoch 2/10\n",
            "114/114 [==============================] - 36s 320ms/step - loss: 0.9424 - acc: 0.7319\n",
            "Epoch 3/10\n",
            "114/114 [==============================] - 36s 314ms/step - loss: 0.6316 - acc: 0.8126\n",
            "Epoch 4/10\n",
            "114/114 [==============================] - 36s 314ms/step - loss: 0.4513 - acc: 0.8604\n",
            "Epoch 5/10\n",
            "114/114 [==============================] - 36s 313ms/step - loss: 0.3620 - acc: 0.8918\n",
            "Epoch 6/10\n",
            "114/114 [==============================] - 36s 314ms/step - loss: 0.2882 - acc: 0.9096\n",
            "Epoch 7/10\n",
            "114/114 [==============================] - 38s 334ms/step - loss: 0.2525 - acc: 0.9181\n",
            "Epoch 8/10\n",
            "114/114 [==============================] - 37s 320ms/step - loss: 0.2071 - acc: 0.9283\n",
            "Epoch 9/10\n",
            "114/114 [==============================] - 36s 314ms/step - loss: 0.1865 - acc: 0.9371\n",
            "Epoch 10/10\n",
            "114/114 [==============================] - 36s 314ms/step - loss: 0.1585 - acc: 0.9522\n",
            "Avg precision :0.8431917963333797 Avg recall : 0.8346546310832025 Avg fcore: 0.8356868532325372\n",
            "Percentage of false classification with confidence score less than 0.6 is 0.09211145996860283\n"
          ]
        },
        {
          "output_type": "execute_result",
          "data": {
            "application/vnd.google.colaboratory.intrinsic+json": {
              "type": "string"
            },
            "text/plain": [
              "'Accuracy is 83.46546310832025'"
            ]
          },
          "metadata": {},
          "execution_count": 22
        }
      ],
      "source": [
        "def build_model(train_X,train_Y_one_hot,test_X,test_Y_one_hot):\n",
        "  vgg16_model = vgg16.VGG16(pooling='avg', weights='imagenet', include_top=False, input_shape=(32,32,3))\n",
        "  for layers in vgg16_model.layers:\n",
        "              layers.trainable=False\n",
        "  last_output = vgg16_model.layers[-1].output\n",
        "  vgg_x = Flatten()(last_output)\n",
        "  vgg_x = Dense(128, activation = 'relu')(vgg_x)\n",
        "  vgg_x = Dense(26, activation = 'softmax')(vgg_x)\n",
        "  vgg16_final_model = Model(vgg16_model.input, vgg_x)\n",
        "  vgg16_final_model.compile(loss = 'categorical_crossentropy', optimizer= 'adam', metrics=['acc'])\n",
        "  vgg16_final_model.fit(train_X,train_Y_one_hot,epochs=10,shuffle=True)\n",
        "  predicted_prob=vgg16_final_model.predict(test_X)\n",
        "  acc=accuracy_metric(predicted_prob,test_Y_one_hot)\n",
        "  prf_metric(predicted_prob,test_Y_one_hot)\n",
        "  \n",
        "  count=0\n",
        "  for i,j in enumerate(predicted_prob):\n",
        "    if(np.max(j)<0.6):\n",
        "      try:\n",
        "        train_X=np.append(train_X,np.array([test_X[i]]),axis=0)\n",
        "        train_Y_one_hot=np.append(train_Y_one_hot,np.array([test_Y_one_hot[i]]),axis=0)\n",
        "        test_X=np.delete(test_X,i,axis=0)\n",
        "        test_Y_one_hot=np.delete(test_Y_one_hot,i,axis=0)\n",
        "        count +=1\n",
        "      except:\n",
        "        pass\n",
        "  thres=count/len(predicted_prob)\n",
        "  print(\"Percentage of classification with confidence score less than 0.6 is {}\".format(thres))\n",
        "  \n",
        "  if(thres>0.10):#build the model again\n",
        "    build_model(train_X,train_Y_one_hot,test_X,test_Y_one_hot)\n",
        "  else:\n",
        "    model_structure=vgg16_final_model.to_json()\n",
        "    f=Path(\"model_structure.json\")\n",
        "    f.write_text(model_structure)\n",
        "    vgg16_final_model.save_weights(\"model-detection.h5\")\n",
        "  \n",
        "  return \"Accuracy is {}\".format(acc)\n",
        "\n",
        "build_model(train_X,train_Y_one_hot,test_X,test_Y_one_hot)"
      ],
      "id": "fnmCG4-Bm7Tw"
    },
    {
      "cell_type": "code",
      "execution_count": null,
      "metadata": {
        "id": "7c7077b5"
      },
      "outputs": [],
      "source": [
        "import tensorflow as tf\n",
        "\n",
        "json_file = open('model_structure.json', 'r')\n",
        "loaded_model_json = json_file.read()\n",
        "json_file.close()\n",
        "loaded_model = tf.keras.models.model_from_json(loaded_model_json)\n",
        "# load weights into new model\n",
        "loaded_model.load_weights(\"model-detection.h5\")"
      ],
      "id": "7c7077b5"
    },
    {
      "cell_type": "code",
      "source": [
        "#reading the testdata\n",
        "imgarr=[]\n",
        "labelarr=[]\n",
        "for i in os.listdir('/content/test/'):\n",
        "  if i != '.ipynb_checkpoints':#ignoring checkpoints if present in the same directory\n",
        "    for j in os.listdir(os.path.join('/content/test/',i)):\n",
        "      try:\n",
        "        arr=cv2.imread('/content/test/'+i+'/'+j,cv2.IMREAD_GRAYSCALE)\n",
        "        imgarr.append(arr.ravel())\n",
        "        labelarr.append(i[0])\n",
        "      except:\n",
        "        continue \n",
        "#defining key value pair for label encoding\n",
        "key_val = {0:'A',1:'B',2:'C',3:'D',4:'E',5:'F',6:'G',7:'H',8:'I',9:'J',10:'K',11:'L',12:'M',13:'N',14:'O',15:'P',16:'Q',17:'R',18:'S',19:'T',20:'U',21:'V',22:'W',23:'X',24:'Y',25:'Z'}\n",
        "label_encoder=dict()\n",
        "X_test=np.array(imgarr)\n",
        "y_test=np.array(labelarr)\n",
        "for i in key_val.keys():\n",
        "    label_encoder[key_val[i]]=i \n",
        "y_test=np.array([label_encoder[i] for i in y_test])\n",
        "test_Y_one_hot = to_categorical(y_test)\n",
        "X_test=np.dstack([X_test]*3)\n",
        "X_test= X_test.reshape (-1,28,28,3)\n",
        "test_X = np.asarray([img_to_array(array_to_img(im, scale=False).resize((32,32))) for im in X_test])"
      ],
      "metadata": {
        "id": "X1OWhrnI253f"
      },
      "id": "X1OWhrnI253f",
      "execution_count": null,
      "outputs": []
    },
    {
      "cell_type": "code",
      "source": [
        "predicted_prob=loaded_model.predict(test_X)\n",
        "accuracy_metric(predicted_prob,test_Y_one_hot)"
      ],
      "metadata": {
        "colab": {
          "base_uri": "https://localhost:8080/"
        },
        "id": "ErZUP3r8C1Ku",
        "outputId": "9fc727f0-c803-4200-f499-c6b56ac97dfa"
      },
      "id": "ErZUP3r8C1Ku",
      "execution_count": null,
      "outputs": [
        {
          "output_type": "execute_result",
          "data": {
            "text/plain": [
              "82.99637535239629"
            ]
          },
          "metadata": {},
          "execution_count": 32
        }
      ]
    }
  ],
  "metadata": {
    "colab": {
      "collapsed_sections": [],
      "name": "modeling_error_analysis .ipynb",
      "provenance": []
    },
    "kernelspec": {
      "display_name": "Python 3 (ipykernel)",
      "language": "python",
      "name": "python3"
    },
    "language_info": {
      "codemirror_mode": {
        "name": "ipython",
        "version": 3
      },
      "file_extension": ".py",
      "mimetype": "text/x-python",
      "name": "python",
      "nbconvert_exporter": "python",
      "pygments_lexer": "ipython3",
      "version": "3.9.7"
    }
  },
  "nbformat": 4,
  "nbformat_minor": 5
}