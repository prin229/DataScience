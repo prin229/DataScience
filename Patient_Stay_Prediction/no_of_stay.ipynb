{
  "nbformat": 4,
  "nbformat_minor": 0,
  "metadata": {
    "colab": {
      "name": "no_of_stay.ipynb",
      "provenance": []
    },
    "kernelspec": {
      "name": "python3",
      "display_name": "Python 3"
    },
    "accelerator": "TPU"
  },
  "cells": [
    {
      "cell_type": "code",
      "metadata": {
        "id": "7OrhJ-w2FpPu",
        "colab_type": "code",
        "colab": {
          "base_uri": "https://localhost:8080/",
          "height": 71
        },
        "outputId": "3042e5bb-b7a5-4121-c009-0e7ddf265390"
      },
      "source": [
        "import numpy as np\n",
        "import pandas as pd\n",
        "import sklearn\n",
        "import string\n",
        "import re\n",
        "import matplotlib.pyplot as plt\n",
        "import seaborn as sb\n",
        "from sklearn.preprocessing import scale\n"
      ],
      "execution_count": 1,
      "outputs": [
        {
          "output_type": "stream",
          "text": [
            "/usr/local/lib/python3.6/dist-packages/statsmodels/tools/_testing.py:19: FutureWarning: pandas.util.testing is deprecated. Use the functions in the public API at pandas.testing instead.\n",
            "  import pandas.util.testing as tm\n"
          ],
          "name": "stderr"
        }
      ]
    },
    {
      "cell_type": "code",
      "metadata": {
        "id": "9EaNtpZQF4-6",
        "colab_type": "code",
        "colab": {
          "base_uri": "https://localhost:8080/",
          "height": 34
        },
        "outputId": "b00e978e-2cfe-44b2-e406-93eb0bd0f289"
      },
      "source": [
        "if(re.fullmatch('[1-9]+[-][a-b]+','23457-ab')):\n",
        "  print('matched')\n",
        "else:\n",
        "  print('not matched')\n",
        "\n"
      ],
      "execution_count": null,
      "outputs": [
        {
          "output_type": "stream",
          "text": [
            "matched\n"
          ],
          "name": "stdout"
        }
      ]
    },
    {
      "cell_type": "code",
      "metadata": {
        "id": "Lrd2M-eJKglf",
        "colab_type": "code",
        "colab": {
          "base_uri": "https://localhost:8080/",
          "height": 136
        },
        "outputId": "4ad9e00a-6967-4a07-ef75-182c23859f06"
      },
      "source": [
        "testdf=pd.read_csv('/content/drive/My Drive/Colab Notebooks/healthcare/test_data.csv')\n",
        "testdf.columns"
      ],
      "execution_count": 2,
      "outputs": [
        {
          "output_type": "execute_result",
          "data": {
            "text/plain": [
              "Index(['case_id', 'Hospital_code', 'Hospital_type_code', 'City_Code_Hospital',\n",
              "       'Hospital_region_code', 'Available Extra Rooms in Hospital',\n",
              "       'Department', 'Ward_Type', 'Ward_Facility_Code', 'Bed Grade',\n",
              "       'patientid', 'City_Code_Patient', 'Type of Admission',\n",
              "       'Severity of Illness', 'Visitors with Patient', 'Age',\n",
              "       'Admission_Deposit'],\n",
              "      dtype='object')"
            ]
          },
          "metadata": {
            "tags": []
          },
          "execution_count": 2
        }
      ]
    },
    {
      "cell_type": "code",
      "metadata": {
        "id": "AIMIu-5UIzxo",
        "colab_type": "code",
        "colab": {
          "base_uri": "https://localhost:8080/",
          "height": 165
        },
        "outputId": "7e946a87-91b5-4499-b6b1-d97ff08e8779"
      },
      "source": [
        "traindf=pd.read_csv('/content/drive/My Drive/Colab Notebooks/healthcare/train_data.csv')\n",
        "pd.set_option('display.max_rows',100)\n",
        "traindf['Bed Grade'].fillna(round(traindf['Bed Grade'].mean(),1),inplace=True)\n",
        "df=traindf[[\n",
        "       'Department', 'Type of Admission',\n",
        "       'Severity of Illness']]\n",
        "traindf['age_modified']=traindf['Age'].apply(lambda x:age(x))\n",
        "traindf.drop(['Age'],inplace=True,axis=1)\n",
        "df.head()\n",
        "newdf=pd.get_dummies(df)\n",
        "data_train=pd.concat([traindf['age_modified'],newdf],axis=1)\n",
        "data_train.head(2)"
      ],
      "execution_count": 5,
      "outputs": [
        {
          "output_type": "execute_result",
          "data": {
            "text/html": [
              "<div>\n",
              "<style scoped>\n",
              "    .dataframe tbody tr th:only-of-type {\n",
              "        vertical-align: middle;\n",
              "    }\n",
              "\n",
              "    .dataframe tbody tr th {\n",
              "        vertical-align: top;\n",
              "    }\n",
              "\n",
              "    .dataframe thead th {\n",
              "        text-align: right;\n",
              "    }\n",
              "</style>\n",
              "<table border=\"1\" class=\"dataframe\">\n",
              "  <thead>\n",
              "    <tr style=\"text-align: right;\">\n",
              "      <th></th>\n",
              "      <th>age_modified</th>\n",
              "      <th>Department_TB &amp; Chest disease</th>\n",
              "      <th>Department_anesthesia</th>\n",
              "      <th>Department_gynecology</th>\n",
              "      <th>Department_radiotherapy</th>\n",
              "      <th>Department_surgery</th>\n",
              "      <th>Type of Admission_Emergency</th>\n",
              "      <th>Type of Admission_Trauma</th>\n",
              "      <th>Type of Admission_Urgent</th>\n",
              "      <th>Severity of Illness_Extreme</th>\n",
              "      <th>Severity of Illness_Minor</th>\n",
              "      <th>Severity of Illness_Moderate</th>\n",
              "    </tr>\n",
              "  </thead>\n",
              "  <tbody>\n",
              "    <tr>\n",
              "      <th>0</th>\n",
              "      <td>59</td>\n",
              "      <td>0</td>\n",
              "      <td>0</td>\n",
              "      <td>0</td>\n",
              "      <td>1</td>\n",
              "      <td>0</td>\n",
              "      <td>1</td>\n",
              "      <td>0</td>\n",
              "      <td>0</td>\n",
              "      <td>1</td>\n",
              "      <td>0</td>\n",
              "      <td>0</td>\n",
              "    </tr>\n",
              "    <tr>\n",
              "      <th>1</th>\n",
              "      <td>59</td>\n",
              "      <td>0</td>\n",
              "      <td>0</td>\n",
              "      <td>0</td>\n",
              "      <td>1</td>\n",
              "      <td>0</td>\n",
              "      <td>0</td>\n",
              "      <td>1</td>\n",
              "      <td>0</td>\n",
              "      <td>1</td>\n",
              "      <td>0</td>\n",
              "      <td>0</td>\n",
              "    </tr>\n",
              "  </tbody>\n",
              "</table>\n",
              "</div>"
            ],
            "text/plain": [
              "   age_modified  ...  Severity of Illness_Moderate\n",
              "0            59  ...                             0\n",
              "1            59  ...                             0\n",
              "\n",
              "[2 rows x 12 columns]"
            ]
          },
          "metadata": {
            "tags": []
          },
          "execution_count": 5
        }
      ]
    },
    {
      "cell_type": "code",
      "metadata": {
        "id": "5QUfTqOO-Nqt",
        "colab_type": "code",
        "colab": {}
      },
      "source": [
        "import random\n",
        "def age(data):\n",
        "     arr=re.split('-',data)\n",
        "     return random.randint(int(arr[0]),int(arr[1]))\n",
        "     \n",
        "\n"
      ],
      "execution_count": 4,
      "outputs": []
    },
    {
      "cell_type": "code",
      "metadata": {
        "id": "mY4egAE058Me",
        "colab_type": "code",
        "colab": {
          "base_uri": "https://localhost:8080/",
          "height": 438
        },
        "outputId": "5fd4d677-8708-4de0-b484-0ed76b237bbf"
      },
      "source": [
        "sb.heatmap(data_train.corr(method='pearson'))"
      ],
      "execution_count": 6,
      "outputs": [
        {
          "output_type": "execute_result",
          "data": {
            "text/plain": [
              "<matplotlib.axes._subplots.AxesSubplot at 0x7fc539f2e2e8>"
            ]
          },
          "metadata": {
            "tags": []
          },
          "execution_count": 6
        },
        {
          "output_type": "display_data",
          "data": {
            "image/png": "[encoded data removed]",
            "text/plain": [
              "<Figure size 432x288 with 2 Axes>"
            ]
          },
          "metadata": {
            "tags": [],
            "needs_background": "light"
          }
        }
      ]
    },
    {
      "cell_type": "code",
      "metadata": {
        "id": "bIMiTPDkVfaz",
        "colab_type": "code",
        "colab": {
          "base_uri": "https://localhost:8080/",
          "height": 265
        },
        "outputId": "136e4d96-4110-4124-9f78-05d0b7f97c4c"
      },
      "source": [
        "plt.hist(data_train['Admission_Deposit'])\n",
        "plt.show()"
      ],
      "execution_count": null,
      "outputs": [
        {
          "output_type": "display_data",
          "data": {
            "image/png": "[encoded data removed]",
            "text/plain": [
              "<Figure size 432x288 with 1 Axes>"
            ]
          },
          "metadata": {
            "tags": [],
            "needs_background": "light"
          }
        }
      ]
    },
    {
      "cell_type": "code",
      "metadata": {
        "id": "KuUiGmXz0O-l",
        "colab_type": "code",
        "colab": {}
      },
      "source": [
        "from sklearn.preprocessing import LabelEncoder,scale"
      ],
      "execution_count": null,
      "outputs": []
    },
    {
      "cell_type": "code",
      "metadata": {
        "id": "cNZVAzitGGa5",
        "colab_type": "code",
        "colab": {
          "base_uri": "https://localhost:8080/",
          "height": 221
        },
        "outputId": "dc9797ea-3fc8-49cd-8780-7a5b5480d88c"
      },
      "source": [
        "label_encoder=LabelEncoder()\n",
        "newdata=label_encoder.fit_transform(traindf['Stay'])\n",
        "pd.Series(newdata)"
      ],
      "execution_count": null,
      "outputs": [
        {
          "output_type": "execute_result",
          "data": {
            "text/plain": [
              "0         0\n",
              "1         4\n",
              "2         3\n",
              "3         4\n",
              "4         4\n",
              "         ..\n",
              "318433    1\n",
              "318434    3\n",
              "318435    1\n",
              "318436    1\n",
              "318437    0\n",
              "Length: 318438, dtype: int64"
            ]
          },
          "metadata": {
            "tags": []
          },
          "execution_count": 34
        }
      ]
    },
    {
      "cell_type": "code",
      "metadata": {
        "id": "DIP-zTe54-nP",
        "colab_type": "code",
        "colab": {
          "base_uri": "https://localhost:8080/",
          "height": 238
        },
        "outputId": "f794b6d0-90fc-44e7-b799-5cf324bfe174"
      },
      "source": [
        "data_train"
      ],
      "execution_count": null,
      "outputs": [
        {
          "output_type": "execute_result",
          "data": {
            "text/plain": [
              "array([[-0.16917678, -0.72792324,  0.58658322, ...,  2.14800215,\n",
              "        -0.60764885, -1.11047911],\n",
              "       [-1.02521686, -0.72792324,  0.58658322, ...,  2.14800215,\n",
              "        -0.60764885, -1.11047911],\n",
              "       [-1.02521686, -0.72792324,  0.69104747, ...,  2.14800215,\n",
              "        -0.60764885, -1.11047911],\n",
              "       ...,\n",
              "       [-0.16917678, -0.16104865,  1.42229724, ..., -0.46554888,\n",
              "         1.64568732, -1.11047911],\n",
              "       [-0.16917678,  0.97270052, -1.8683267 , ..., -0.46554888,\n",
              "         1.64568732, -1.11047911],\n",
              "       [ 1.5429034 , -0.72792324, -1.81609458, ..., -0.46554888,\n",
              "         1.64568732, -1.11047911]])"
            ]
          },
          "metadata": {
            "tags": []
          },
          "execution_count": 29
        }
      ]
    },
    {
      "cell_type": "code",
      "metadata": {
        "id": "y5jH_oII6yr1",
        "colab_type": "code",
        "colab": {}
      },
      "source": [
        "from sklearn.ensemble import  RandomForestClassifier\n",
        "from sklearn.model_selection import train_test_split\n",
        "from sklearn.metrics import precision_recall_fscore_support as score"
      ],
      "execution_count": null,
      "outputs": []
    },
    {
      "cell_type": "code",
      "metadata": {
        "id": "5p3Oefrw4UP0",
        "colab_type": "code",
        "colab": {
          "base_uri": "https://localhost:8080/",
          "height": 153
        },
        "outputId": "f0100bba-7c09-4c29-8da0-e06779b0ec91"
      },
      "source": [
        "X_train, X_test, y_train, y_test = train_test_split(\n",
        "...     data_train,newdata, test_size=0.33, random_state=42)\n",
        "model= RandomForestClassifier(n_jobs=-1,n_estimators=100)\n",
        "model.fit(X_train,y_train)"
      ],
      "execution_count": null,
      "outputs": [
        {
          "output_type": "execute_result",
          "data": {
            "text/plain": [
              "RandomForestClassifier(bootstrap=True, ccp_alpha=0.0, class_weight=None,\n",
              "                       criterion='gini', max_depth=None, max_features='auto',\n",
              "                       max_leaf_nodes=None, max_samples=None,\n",
              "                       min_impurity_decrease=0.0, min_impurity_split=None,\n",
              "                       min_samples_leaf=1, min_samples_split=2,\n",
              "                       min_weight_fraction_leaf=0.0, n_estimators=100,\n",
              "                       n_jobs=-1, oob_score=False, random_state=None, verbose=0,\n",
              "                       warm_start=False)"
            ]
          },
          "metadata": {
            "tags": []
          },
          "execution_count": 45
        }
      ]
    },
    {
      "cell_type": "code",
      "metadata": {
        "id": "yvdQyaKXFdpy",
        "colab_type": "code",
        "colab": {
          "base_uri": "https://localhost:8080/",
          "height": 34
        },
        "outputId": "51c423a9-595b-4d1e-fd0d-aff6b2a3d222"
      },
      "source": [
        "y_predict=model.predict(X_test)\n",
        "(len(y_predict[y_predict==y_test])/len(y_predict))*100\n"
      ],
      "execution_count": null,
      "outputs": [
        {
          "output_type": "execute_result",
          "data": {
            "text/plain": [
              "28.87281724318409"
            ]
          },
          "metadata": {
            "tags": []
          },
          "execution_count": 54
        }
      ]
    },
    {
      "cell_type": "code",
      "metadata": {
        "id": "TWS6X7YYFZB-",
        "colab_type": "code",
        "colab": {
          "base_uri": "https://localhost:8080/",
          "height": 68
        },
        "outputId": "509a8cd9-f79c-4726-a11d-34fc2e09ff23"
      },
      "source": [
        "(precision,recall,fscore,support)=score(y_test,y_predict)\n",
        "print(\"precision:{} /Recall:{} /Accuracy:{}\".format(precision,recall,len((y_predict==y_test))/len(y_predict)))"
      ],
      "execution_count": null,
      "outputs": [
        {
          "output_type": "stream",
          "text": [
            "precision:[0.13802083 0.28798571 0.30095012 0.17532468 0.04       0.14454976\n",
            " 0.         0.05405405 0.10526316 0.25       0.08928571] /Recall:[0.00675073 0.50823117 0.56808305 0.03428477 0.00078003 0.01046222\n",
            " 0.         0.00119725 0.00125471 0.00110988 0.00229358] /Accuracy:1.0\n"
          ],
          "name": "stdout"
        }
      ]
    }
  ]
}