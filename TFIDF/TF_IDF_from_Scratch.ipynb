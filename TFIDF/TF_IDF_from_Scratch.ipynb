{
 "cells": [
  {
   "cell_type": "markdown",
   "metadata": {
    "id": "GsnogjXUQu1K"
   },
   "source": [
    "# NOTE:\n",
    "\n",
    "1. Implementing the TFIDf function such that for each word in a sentence, its corresponding tfidf value is assigned. Thus a 4 x 6 sized matrix should be returned where the rows represent sentences and the columns represent words. We wish to keep it simple in the beginning.\n",
    "\n",
    "2. In reality the TFIDF function should return a matrix where the rows represent sentences and the columns represent words (ie: Features). Every sentence vector in this matrix will be 'd' dimensional, where d = number of unique words in the corpus (ie: Vocabulary).\n",
    "Every position/cell in a sentence vector correponds to a particular word in the vocabulary. If the word is not present in the current sentence, we assign a value of 0 to that cell, else we assign the TFIDF value."
   ]
  },
  {
   "cell_type": "markdown",
   "metadata": {
    "id": "0vrZdUum2xPk"
   },
   "source": [
    "# **TF-IDF from scratch**\n",
    "\n",
    "we will implement TF-IDF vectorization of text from scratch using only Python and inbuilt data structures. we will then verify the correctness of the implementation using a \"grader\" function/cell which will match the implmentation.\n",
    "\n",
    "The grader fucntion would help to validate the correctness of the code. \n",
    "\n",
    "\n",
    "**(FAQ) Why bother about implementing a function to compute TF-IDF when it is already available in major libraries?**\n",
    "\n",
    "Ans.\n",
    "1.It helps us to obtain a deeper understanding of the concepts and how it works internally. Knowledge of the internals will also help in debugging problems better."
   ]
  },
  {
   "cell_type": "code",
   "execution_count": 1,
   "metadata": {
    "colab": {
     "base_uri": "https://localhost:8080/"
    },
    "id": "ZxSRJ4KT3OMw",
    "outputId": "67e6f24b-7489-44a2-b800-24e6159551b8"
   },
   "outputs": [],
   "source": [
    "# Corpus to be used for this assignment\n",
    "import numpy as np\n",
    "\n",
    "corpus = [\n",
    "     'this is the first document mostly',\n",
    "     'this document is the second document',\n",
    "     'and this is the third one',\n",
    "     'is this the first document here',\n",
    "]\n",
    "\n",
    "\n",
    "\n",
    "      "
   ]
  },
  {
   "cell_type": "code",
   "execution_count": 2,
   "metadata": {
    "id": "aYoKXNsU3nhO"
   },
   "outputs": [],
   "source": [
    "# Please implement this fucntion and write your code wherever asked. Do NOT change the code snippets provided by us.\n",
    "def computeTFIDF (corpus):\n",
    "  \"\"\"Given a list of sentences as \"corpus\", return the TF-IDF vectors for all the \n",
    "  sentences in the corpus as a numpy 2D matrix. \n",
    "  \n",
    "  Each row of the 2D matrix must correspond to one sentence \n",
    "  and each column corresponds to a word in the text corpus. \n",
    "  \n",
    "  ordering of the rows is in the same order as the \n",
    "  sentences in the input \"corpus\". \n",
    "    \n",
    "  Ignore puncutation symbols like comma, fullstop, \n",
    "  exclamation, question-mark etc from the input corpus.\n",
    "  \n",
    "  For e.g, If the corpus contains sentences with these \n",
    "  9 distinct words, ['and', 'document', 'first', 'is', 'one', 'second', 'the', 'third', 'this'], \n",
    "  then the first column of the 2D matrix will correpsond to word \"and\", the second column will \n",
    "  correspond to column \"document\" and so on. \n",
    "  \n",
    "  this function uses only basic Python code, inbuilt Data Structures and  NumPy ONLY.\n",
    "  .\n",
    "  \"\"\"\n",
    "  N=len(corpus)\n",
    "  matrix=[]\n",
    "  for i in corpus:\n",
    "      words=i.split()\n",
    "      vect=[]\n",
    "      for j in words:\n",
    "        tf=words.count(j)/len(words)\n",
    "        n=sum([ 1 for k in corpus if k.count(j)>0 ])\n",
    "        idf=np.log(N/n)\n",
    "        tfidf=round(tf*idf,2)\n",
    "        vect.append(tfidf)\n",
    "      matrix.append(vect)\n",
    "  return np.array(matrix)"
   ]
  },
  {
   "cell_type": "markdown",
   "metadata": {
    "id": "cZ_hmMn92bEe"
   },
   "source": [
    "# Grader Cell\n",
    "Executing the following Grader cell to verify the correctness of the above implementation. This cell will print \"Success\" if  implmentation of the computeTFIDF() is correct, else, it will print \"Failed\"."
   ]
  },
  {
   "cell_type": "code",
   "execution_count": 3,
   "metadata": {
    "colab": {
     "base_uri": "https://localhost:8080/"
    },
    "id": "ZUYmXFjfu53i",
    "outputId": "b68ad86b-c241-49c2-a835-78657e775023"
   },
   "outputs": [
    {
     "name": "stdout",
     "output_type": "stream",
     "text": [
      "******** Success ********\n"
     ]
    }
   ],
   "source": [
    "###########################################\n",
    "## GRADER CELL: Do NOT Change this.\n",
    "# This cell will print \"Success\" if your implmentation of the computeTFIDF() is correct.\n",
    "# Else, it will print \"Failed\"\n",
    "###########################################\n",
    "import numpy as np\n",
    "\n",
    "# compute TF-IDF using the computeTFIDF() function\n",
    "X_custom = computeTFIDF(corpus)\n",
    "\n",
    "# Reference grader array - DO NOT MODIFY IT\n",
    "X_grader = np.array(\n",
    "    [[0, 0, 0, 0.12, 0.05, 0.23],\n",
    "     [0, 0.1, 0, 0, 0.23, 0.1],\n",
    "     [0.23, 0, 0, 0, 0.23, 0.23],\n",
    "     [0, 0, 0, 0.12, 0.05, 0.23]]\n",
    "     )\n",
    "\n",
    "# compare X_grader and X_custom\n",
    "comparison = ( X_grader == X_custom )\n",
    "isEqual = comparison.all()\n",
    "\n",
    "if isEqual:\n",
    "  print(\"******** Success ********\")\n",
    "else:\n",
    "  print(\"####### Failed #######\")\n",
    "  print(\"\\nX_grader = \\n\\n\", X_grader)\n",
    "  print(\"\\n\",\"*\"*50)\n",
    "  print(\"\\nX_custom = \\n\\n\", X_custom)\n"
   ]
  },
  {
   "cell_type": "code",
   "execution_count": null,
   "metadata": {
    "id": "8KnzKuIYeAEJ"
   },
   "outputs": [],
   "source": []
  }
 ],
 "metadata": {
  "colab": {
   "collapsed_sections": [],
   "name": "TF-IDF from Scratch Assignment.ipynb",
   "provenance": []
  },
  "kernelspec": {
   "display_name": "Python 3",
   "language": "python",
   "name": "python3"
  },
  "language_info": {
   "codemirror_mode": {
    "name": "ipython",
    "version": 3
   },
   "file_extension": ".py",
   "mimetype": "text/x-python",
   "name": "python",
   "nbconvert_exporter": "python",
   "pygments_lexer": "ipython3",
   "version": "3.8.8"
  }
 },
 "nbformat": 4,
 "nbformat_minor": 1
}
