{
  "nbformat": 4,
  "nbformat_minor": 0,
  "metadata": {
    "colab": {
      "name": "classification.ipynb",
      "provenance": [],
      "collapsed_sections": []
    },
    "kernelspec": {
      "name": "python3",
      "display_name": "Python 3"
    },
    "language_info": {
      "name": "python"
    }
  },
  "cells": [
    {
      "cell_type": "code",
      "metadata": {
        "colab": {
          "base_uri": "https://localhost:8080/"
        },
        "id": "zsVN72SASG_1",
        "outputId": "bc4f08fd-efa6-479c-f95d-4188dedbf22e"
      },
      "source": [
        "!unzip '/content/dataset.csv.zip' -d '/content/'"
      ],
      "execution_count": 1,
      "outputs": [
        {
          "output_type": "stream",
          "name": "stdout",
          "text": [
            "Archive:  /content/dataset.csv.zip\n",
            "  inflating: /content/train.csv      \n"
          ]
        }
      ]
    },
    {
      "cell_type": "code",
      "metadata": {
        "id": "g_N9L848UF2W"
      },
      "source": [
        "#importing required libraries\n",
        "import pandas as pd\n",
        "import numpy as np\n",
        "import matplotlib.pyplot as plt\n",
        "import seaborn as sb\n",
        "import warnings\n",
        "warnings.filterwarnings('ignore')"
      ],
      "execution_count": 20,
      "outputs": []
    },
    {
      "cell_type": "code",
      "metadata": {
        "colab": {
          "base_uri": "https://localhost:8080/",
          "height": 164
        },
        "id": "2peRZb-UTumW",
        "outputId": "a23be6d1-ef9d-44f2-d608-08f8a5427ba2"
      },
      "source": [
        "#reading the data\n",
        "df=pd.read_csv('dataset.csv',parse_dates=['Dates'])\n",
        "df.head(2)"
      ],
      "execution_count": 12,
      "outputs": [
        {
          "output_type": "execute_result",
          "data": {
            "text/html": [
              "<div>\n",
              "<style scoped>\n",
              "    .dataframe tbody tr th:only-of-type {\n",
              "        vertical-align: middle;\n",
              "    }\n",
              "\n",
              "    .dataframe tbody tr th {\n",
              "        vertical-align: top;\n",
              "    }\n",
              "\n",
              "    .dataframe thead th {\n",
              "        text-align: right;\n",
              "    }\n",
              "</style>\n",
              "<table border=\"1\" class=\"dataframe\">\n",
              "  <thead>\n",
              "    <tr style=\"text-align: right;\">\n",
              "      <th></th>\n",
              "      <th>Dates</th>\n",
              "      <th>Category</th>\n",
              "      <th>Descript</th>\n",
              "      <th>DayOfWeek</th>\n",
              "      <th>PdDistrict</th>\n",
              "      <th>Resolution</th>\n",
              "      <th>Address</th>\n",
              "      <th>X</th>\n",
              "      <th>Y</th>\n",
              "    </tr>\n",
              "  </thead>\n",
              "  <tbody>\n",
              "    <tr>\n",
              "      <th>0</th>\n",
              "      <td>2015-05-13 23:53:00</td>\n",
              "      <td>WARRANTS</td>\n",
              "      <td>WARRANT ARREST</td>\n",
              "      <td>Wednesday</td>\n",
              "      <td>NORTHERN</td>\n",
              "      <td>ARREST, BOOKED</td>\n",
              "      <td>OAK ST / LAGUNA ST</td>\n",
              "      <td>-122.425892</td>\n",
              "      <td>37.774599</td>\n",
              "    </tr>\n",
              "    <tr>\n",
              "      <th>1</th>\n",
              "      <td>2015-05-13 23:53:00</td>\n",
              "      <td>OTHER OFFENSES</td>\n",
              "      <td>TRAFFIC VIOLATION ARREST</td>\n",
              "      <td>Wednesday</td>\n",
              "      <td>NORTHERN</td>\n",
              "      <td>ARREST, BOOKED</td>\n",
              "      <td>OAK ST / LAGUNA ST</td>\n",
              "      <td>-122.425892</td>\n",
              "      <td>37.774599</td>\n",
              "    </tr>\n",
              "  </tbody>\n",
              "</table>\n",
              "</div>"
            ],
            "text/plain": [
              "                Dates        Category  ...           X          Y\n",
              "0 2015-05-13 23:53:00        WARRANTS  ... -122.425892  37.774599\n",
              "1 2015-05-13 23:53:00  OTHER OFFENSES  ... -122.425892  37.774599\n",
              "\n",
              "[2 rows x 9 columns]"
            ]
          },
          "metadata": {},
          "execution_count": 12
        }
      ]
    },
    {
      "cell_type": "code",
      "metadata": {
        "colab": {
          "base_uri": "https://localhost:8080/"
        },
        "id": "jwTCMs5mUZQx",
        "outputId": "6e103285-8d68-4e6a-b16d-e3410ef5e0b1"
      },
      "source": [
        "#no of unique categories\n",
        "len(df['Category'].unique())"
      ],
      "execution_count": 13,
      "outputs": [
        {
          "output_type": "execute_result",
          "data": {
            "text/plain": [
              "39"
            ]
          },
          "metadata": {},
          "execution_count": 13
        }
      ]
    },
    {
      "cell_type": "code",
      "metadata": {
        "colab": {
          "base_uri": "https://localhost:8080/",
          "height": 112
        },
        "id": "SOm88TgAXNDD",
        "outputId": "ea5eb178-6713-4267-a473-88fa04b88012"
      },
      "source": [
        "#droping these columns because the it is not present in test data, also it contains similar info as category(Target Variable)\n",
        "df.drop(['Descript','Resolution'],inplace=True,axis=1)\n",
        "df.head(2)"
      ],
      "execution_count": 14,
      "outputs": [
        {
          "output_type": "execute_result",
          "data": {
            "text/html": [
              "<div>\n",
              "<style scoped>\n",
              "    .dataframe tbody tr th:only-of-type {\n",
              "        vertical-align: middle;\n",
              "    }\n",
              "\n",
              "    .dataframe tbody tr th {\n",
              "        vertical-align: top;\n",
              "    }\n",
              "\n",
              "    .dataframe thead th {\n",
              "        text-align: right;\n",
              "    }\n",
              "</style>\n",
              "<table border=\"1\" class=\"dataframe\">\n",
              "  <thead>\n",
              "    <tr style=\"text-align: right;\">\n",
              "      <th></th>\n",
              "      <th>Dates</th>\n",
              "      <th>Category</th>\n",
              "      <th>DayOfWeek</th>\n",
              "      <th>PdDistrict</th>\n",
              "      <th>Address</th>\n",
              "      <th>X</th>\n",
              "      <th>Y</th>\n",
              "    </tr>\n",
              "  </thead>\n",
              "  <tbody>\n",
              "    <tr>\n",
              "      <th>0</th>\n",
              "      <td>2015-05-13 23:53:00</td>\n",
              "      <td>WARRANTS</td>\n",
              "      <td>Wednesday</td>\n",
              "      <td>NORTHERN</td>\n",
              "      <td>OAK ST / LAGUNA ST</td>\n",
              "      <td>-122.425892</td>\n",
              "      <td>37.774599</td>\n",
              "    </tr>\n",
              "    <tr>\n",
              "      <th>1</th>\n",
              "      <td>2015-05-13 23:53:00</td>\n",
              "      <td>OTHER OFFENSES</td>\n",
              "      <td>Wednesday</td>\n",
              "      <td>NORTHERN</td>\n",
              "      <td>OAK ST / LAGUNA ST</td>\n",
              "      <td>-122.425892</td>\n",
              "      <td>37.774599</td>\n",
              "    </tr>\n",
              "  </tbody>\n",
              "</table>\n",
              "</div>"
            ],
            "text/plain": [
              "                Dates        Category  ...           X          Y\n",
              "0 2015-05-13 23:53:00        WARRANTS  ... -122.425892  37.774599\n",
              "1 2015-05-13 23:53:00  OTHER OFFENSES  ... -122.425892  37.774599\n",
              "\n",
              "[2 rows x 7 columns]"
            ]
          },
          "metadata": {},
          "execution_count": 14
        }
      ]
    },
    {
      "cell_type": "markdown",
      "metadata": {
        "id": "CSm5Jcf_Ygtb"
      },
      "source": [
        "\n",
        "\n",
        "**Basic EDA**"
      ]
    },
    {
      "cell_type": "code",
      "metadata": {
        "colab": {
          "base_uri": "https://localhost:8080/"
        },
        "id": "SCyonVpRYZu7",
        "outputId": "d8dd34b3-bf25-4830-8c44-6bfb2b64fa2a"
      },
      "source": [
        "#checking for the missing values\n",
        "df.isnull().sum()"
      ],
      "execution_count": 15,
      "outputs": [
        {
          "output_type": "execute_result",
          "data": {
            "text/plain": [
              "Dates         0\n",
              "Category      0\n",
              "DayOfWeek     0\n",
              "PdDistrict    0\n",
              "Address       0\n",
              "X             0\n",
              "Y             0\n",
              "dtype: int64"
            ]
          },
          "metadata": {},
          "execution_count": 15
        }
      ]
    },
    {
      "cell_type": "code",
      "metadata": {
        "colab": {
          "base_uri": "https://localhost:8080/",
          "height": 345
        },
        "id": "rxW2UvI9X0-s",
        "outputId": "3368ed00-c5b2-4a48-de1d-4e12b4fde204"
      },
      "source": [
        "#checking for the crime/category distribution among each district\n",
        "x=df.groupby(['PdDistrict'])['Category'].count()\n",
        "gx=sb.barplot(x.index,x.values)  \n",
        "plt.xticks(rotation=30)"
      ],
      "execution_count": 23,
      "outputs": [
        {
          "output_type": "execute_result",
          "data": {
            "text/plain": [
              "(array([0, 1, 2, 3, 4, 5, 6, 7, 8, 9]),\n",
              " <a list of 10 Text major ticklabel objects>)"
            ]
          },
          "metadata": {},
          "execution_count": 23
        },
        {
          "output_type": "display_data",
          "data": {
            "image/png": "[encoded data removed]",
            "text/plain": [
              "<Figure size 432x288 with 1 Axes>"
            ]
          },
          "metadata": {
            "needs_background": "light"
          }
        }
      ]
    },
    {
      "cell_type": "markdown",
      "metadata": {
        "id": "dRb3XoP6cN5g"
      },
      "source": [
        "**Southern District has most of the crime reported**"
      ]
    },
    {
      "cell_type": "code",
      "metadata": {
        "id": "ibJ8TAKqcYS3"
      },
      "source": [
        "#doing label encoding over the categorical target variable\n",
        "from sklearn.preprocessing import LabelEncoder #importing labelencoder\n",
        "lb=LabelEncoder()\n",
        "df['Catid']=lb.fit_transform(df['Category']) "
      ],
      "execution_count": 29,
      "outputs": []
    },
    {
      "cell_type": "code",
      "metadata": {
        "colab": {
          "base_uri": "https://localhost:8080/"
        },
        "id": "C2z_dI5JdN0z",
        "outputId": "5c5dcee1-1427-4f33-e6e2-16c942164c45"
      },
      "source": [
        "#label encoding district variable\n",
        "lbl=LabelEncoder()\n",
        "df['Did']=lbl.fit_transform(df['PdDistrict'])\n",
        "lbl.classes_"
      ],
      "execution_count": 36,
      "outputs": [
        {
          "output_type": "execute_result",
          "data": {
            "text/plain": [
              "array(['BAYVIEW', 'CENTRAL', 'INGLESIDE', 'MISSION', 'NORTHERN', 'PARK',\n",
              "       'RICHMOND', 'SOUTHERN', 'TARAVAL', 'TENDERLOIN'], dtype=object)"
            ]
          },
          "metadata": {},
          "execution_count": 36
        }
      ]
    },
    {
      "cell_type": "code",
      "metadata": {
        "id": "a4cJwwzBfEPI"
      },
      "source": [
        "df.columns\n",
        "#label encoding DayOfWeek categoricalvariable\n",
        "lbl_c=LabelEncoder()\n",
        "df['wday']=lbl_c.fit_transform(df['DayOfWeek'])\n"
      ],
      "execution_count": 39,
      "outputs": []
    },
    {
      "cell_type": "code",
      "metadata": {
        "id": "onJk1xOGgHSE"
      },
      "source": [
        "df['Block'] = df['Address'].str.contains('block', case = False)\n",
        "df['ST'] = df['Address'].str.contains('ST', case = False)\n",
        "df.drop(['Block','ST'],inplace=True,axis=1)"
      ],
      "execution_count": 50,
      "outputs": []
    },
    {
      "cell_type": "code",
      "metadata": {
        "id": "3oXL4vHqh73E"
      },
      "source": [
        "#feature engineering with dates columns\n",
        "df['Dates']=pd.to_datetime(df['Dates'])\n",
        "df['Year'] = df.Dates.dt.year\n",
        "df['Month'] = df.Dates.dt.month\n",
        "df['Day'] = df.Dates.dt.day\n",
        "df['Hour'] = df.Dates.dt.hour\n",
        "df[\"is_wknd\"] = df.Dates.dt.weekday//4 "
      ],
      "execution_count": 63,
      "outputs": []
    },
    {
      "cell_type": "code",
      "metadata": {
        "id": "VCSZWiMtteyl"
      },
      "source": [
        "\n",
        "#droping the columns after feature engineering (droping address because we have lat and long)\n",
        "df.drop(['Dates','Category','PdDistrict','Address'],inplace=True,axis=1)"
      ],
      "execution_count": 73,
      "outputs": []
    },
    {
      "cell_type": "code",
      "metadata": {
        "id": "k7EU3s9SwGNm"
      },
      "source": [
        "df.drop(['DayOfWeek'],inplace=True,axis=1)"
      ],
      "execution_count": 75,
      "outputs": []
    },
    {
      "cell_type": "code",
      "metadata": {
        "id": "4aIrhrhiwlLR"
      },
      "source": [
        "#splitting the data in train and test (77% train,33 test)\n",
        "from sklearn.model_selection import train_test_split\n",
        "X_train, X_test, y_train, y_test = train_test_split(\n",
        "     df.drop(['Catid'],axis=1),df['Catid'], test_size=0.33, random_state=42)"
      ],
      "execution_count": 80,
      "outputs": []
    },
    {
      "cell_type": "code",
      "metadata": {
        "colab": {
          "base_uri": "https://localhost:8080/"
        },
        "id": "ts0eESH9rg6Z",
        "outputId": "163a3159-5a23-4be1-ee92-bb523920ec24"
      },
      "source": [
        "#trying a base model(DecisionTreeClassifier)\n",
        "from sklearn.tree import DecisionTreeClassifier\n",
        "clf = DecisionTreeClassifier(random_state=0)\n",
        "clf.fit(X_train,y_train)\n"
      ],
      "execution_count": 86,
      "outputs": [
        {
          "output_type": "execute_result",
          "data": {
            "text/plain": [
              "DecisionTreeClassifier(random_state=0)"
            ]
          },
          "metadata": {},
          "execution_count": 86
        }
      ]
    },
    {
      "cell_type": "code",
      "metadata": {
        "colab": {
          "base_uri": "https://localhost:8080/"
        },
        "id": "KuN9p2HZzEqu",
        "outputId": "9ea8b399-d3f3-4210-a0d5-222b003013bd"
      },
      "source": [
        "#Accuracy score on test data\n",
        "clf.score(X_test, y_test)"
      ],
      "execution_count": 87,
      "outputs": [
        {
          "output_type": "execute_result",
          "data": {
            "text/plain": [
              "0.22734222124055675"
            ]
          },
          "metadata": {},
          "execution_count": 87
        }
      ]
    },
    {
      "cell_type": "code",
      "metadata": {
        "colab": {
          "base_uri": "https://localhost:8080/"
        },
        "id": "MsxQuaDsAVue",
        "outputId": "2d8a9cd1-500e-47d6-b17c-6cc2e8c45faf"
      },
      "source": [
        "#trying random forest for the classification\n",
        "from sklearn.ensemble import RandomForestClassifier\n",
        "rfc = RandomForestClassifier(n_estimators=45,min_samples_split=75 )\n",
        "rfc.fit(X_train, y_train)"
      ],
      "execution_count": 90,
      "outputs": [
        {
          "output_type": "execute_result",
          "data": {
            "text/plain": [
              "RandomForestClassifier(min_samples_split=75, n_estimators=45)"
            ]
          },
          "metadata": {},
          "execution_count": 90
        }
      ]
    },
    {
      "cell_type": "code",
      "metadata": {
        "colab": {
          "base_uri": "https://localhost:8080/"
        },
        "id": "-QWKJTGfBGGw",
        "outputId": "1371f78c-7b9c-4f94-a3c9-dd6a0cd3dd48"
      },
      "source": [
        "#Accuracy score on test data\n",
        "rfc.score(X_test, y_test)"
      ],
      "execution_count": 91,
      "outputs": [
        {
          "output_type": "execute_result",
          "data": {
            "text/plain": [
              "0.28880751802372334"
            ]
          },
          "metadata": {},
          "execution_count": 91
        }
      ]
    },
    {
      "cell_type": "code",
      "metadata": {
        "colab": {
          "base_uri": "https://localhost:8080/"
        },
        "id": "kvPjz4eABNx8",
        "outputId": "b8f22f63-20f9-475a-b3c7-729fefc79b91"
      },
      "source": [
        "##Accuracy score on train data\n",
        "rfc.score(X_train,y_train)"
      ],
      "execution_count": 92,
      "outputs": [
        {
          "output_type": "execute_result",
          "data": {
            "text/plain": [
              "0.3552589530369272"
            ]
          },
          "metadata": {},
          "execution_count": 92
        }
      ]
    },
    {
      "cell_type": "markdown",
      "metadata": {
        "id": "YcmuUPSfDMp9"
      },
      "source": [
        "#model is not overfitting , imbalanced data may be caused for low accuracy or we can work on creating more features"
      ]
    },
    {
      "cell_type": "code",
      "metadata": {
        "id": "kiyM8YbABuqb"
      },
      "source": [
        "#Trying boosting approach\n",
        "import lightgbm as lgm\n",
        "trains = lgm.Dataset(X_train, label = y_train, categorical_feature=['Did', 'Month','Year','Day','Hour','is_wknd'])\n",
        "params = {\n",
        "    'boosting':'gbdt',\n",
        "    'objective':'multiclass',\n",
        "    'num_class':39,\n",
        "    'max_delta_step':0.9,\n",
        "    'min_data_in_leaf': 20,\n",
        "    'learning_rate': 0.4,\n",
        "    'max_bin': 480,\n",
        "    'num_leaves': 45,\n",
        "    'verbose' : 1\n",
        "}\n",
        "model = lgm.train(params, trains, 120)\n",
        "rfc_pred=model.predict(X_test)"
      ],
      "execution_count": 94,
      "outputs": []
    },
    {
      "cell_type": "code",
      "metadata": {
        "id": "O9c7JPa9B7Mu"
      },
      "source": [
        "from sklearn.metrics import accuracy_score\n"
      ],
      "execution_count": 113,
      "outputs": []
    },
    {
      "cell_type": "code",
      "metadata": {
        "id": "UhNhnC7LIM75"
      },
      "source": [
        "#conveting the class prob score to class using argmax func\n",
        "pred_class=[]\n",
        "for i in rfc_pred:\n",
        "  pred_class.append(np.argmax(i))\n",
        "pred_cl=np.array(pred_class)\n"
      ],
      "execution_count": 107,
      "outputs": []
    },
    {
      "cell_type": "code",
      "metadata": {
        "colab": {
          "base_uri": "https://localhost:8080/"
        },
        "id": "-nxbgPsuJhGS",
        "outputId": "87766b17-0ad3-4f03-bc32-5b39de976aa6"
      },
      "source": [
        "print (\"Test Accuracy: \", accuracy_score(y_test, pred_cl))"
      ],
      "execution_count": 108,
      "outputs": [
        {
          "output_type": "stream",
          "name": "stdout",
          "text": [
            "Test Accuracy:  0.2837135944946973\n"
          ]
        }
      ]
    },
    {
      "cell_type": "markdown",
      "metadata": {
        "id": "r7I15GT8ON0_"
      },
      "source": [
        "**Even after using Gradient , Accuracy score remains more or less same**\n",
        "\n",
        "## Scope of Improvement:\n",
        "\n",
        "\n",
        "1.   Dataset imbalance can be reduced\n",
        "2.   More feaures can be created using current features\n",
        "3. Deep Learning approach can be tried\n",
        "\n"
      ]
    },
    {
      "cell_type": "code",
      "metadata": {
        "colab": {
          "base_uri": "https://localhost:8080/",
          "height": 540
        },
        "id": "TWvxspZPOaeX",
        "outputId": "e7ae2022-ac51-49b9-9e6d-851ffc2c89be"
      },
      "source": [
        "#showing imbalanced target variable distribution\n",
        "plt.figure(figsize=(10,8))\n",
        "sb.barplot(df['Catid'].value_counts().index,df['Catid'].value_counts())\n",
        "plt.xticks(rotation=30)"
      ],
      "execution_count": 130,
      "outputs": [
        {
          "output_type": "execute_result",
          "data": {
            "text/plain": [
              "(array([ 0,  1,  2,  3,  4,  5,  6,  7,  8,  9, 10, 11, 12, 13, 14, 15, 16,\n",
              "        17, 18, 19, 20, 21, 22, 23, 24, 25, 26, 27, 28, 29, 30, 31, 32, 33,\n",
              "        34, 35, 36, 37, 38]), <a list of 39 Text major ticklabel objects>)"
            ]
          },
          "metadata": {},
          "execution_count": 130
        },
        {
          "output_type": "display_data",
          "data": {
            "image/png": "[encoded data removed]",
            "text/plain": [
              "<Figure size 720x576 with 1 Axes>"
            ]
          },
          "metadata": {
            "needs_background": "light"
          }
        }
      ]
    }
  ]
}