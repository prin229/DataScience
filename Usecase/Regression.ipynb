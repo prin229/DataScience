{
  "nbformat": 4,
  "nbformat_minor": 0,
  "metadata": {
    "colab": {
      "name": "Regression.ipynb",
      "provenance": [],
      "collapsed_sections": []
    },
    "kernelspec": {
      "name": "python3",
      "display_name": "Python 3"
    },
    "language_info": {
      "name": "python"
    }
  },
  "cells": [
    {
      "cell_type": "code",
      "metadata": {
        "id": "vQD0wZlLociR",
        "colab": {
          "base_uri": "https://localhost:8080/"
        },
        "outputId": "283d2653-4b2c-461d-827e-9bbc10b628e8"
      },
      "source": [
        "!unzip \"/content/train.csv.zip\" -d \"/content/\""
      ],
      "execution_count": 1,
      "outputs": [
        {
          "output_type": "stream",
          "name": "stdout",
          "text": [
            "Archive:  /content/train.csv.zip\n",
            "  inflating: /content/train.csv      \n"
          ]
        }
      ]
    },
    {
      "cell_type": "code",
      "metadata": {
        "id": "NoccjeLGq7Vp"
      },
      "source": [
        "#importing all the required libraries\n",
        "import pandas as pd\n",
        "import numpy as np\n",
        "import seaborn as sb\n",
        "import matplotlib.pyplot as plt\n"
      ],
      "execution_count": 80,
      "outputs": []
    },
    {
      "cell_type": "markdown",
      "metadata": {
        "id": "EFiUrove4-Kl"
      },
      "source": [
        "\n",
        "##dataset descriptions\n",
        "### data consists of 4 columns:\n",
        "\n",
        "#####1.date : consists of sales date without holiday or weekend considerations\n",
        "#####2.store : store id/num of each store\n",
        "#####3.item : item id/num available for sales\n",
        "#####4. sales: no of sales corresponding to each store and item\n",
        "\n"
      ]
    },
    {
      "cell_type": "code",
      "metadata": {
        "colab": {
          "base_uri": "https://localhost:8080/",
          "height": 206
        },
        "id": "_Gcxu8c7rFts",
        "outputId": "34d0b614-f7ea-44d5-888f-2a21f34d809b"
      },
      "source": [
        "#reading the data\n",
        "df=pd.read_csv('/content/inventory_data.csv',parse_dates=['date'])\n",
        "df.head(5)"
      ],
      "execution_count": 148,
      "outputs": [
        {
          "output_type": "execute_result",
          "data": {
            "text/html": [
              "<div>\n",
              "<style scoped>\n",
              "    .dataframe tbody tr th:only-of-type {\n",
              "        vertical-align: middle;\n",
              "    }\n",
              "\n",
              "    .dataframe tbody tr th {\n",
              "        vertical-align: top;\n",
              "    }\n",
              "\n",
              "    .dataframe thead th {\n",
              "        text-align: right;\n",
              "    }\n",
              "</style>\n",
              "<table border=\"1\" class=\"dataframe\">\n",
              "  <thead>\n",
              "    <tr style=\"text-align: right;\">\n",
              "      <th></th>\n",
              "      <th>date</th>\n",
              "      <th>store</th>\n",
              "      <th>item</th>\n",
              "      <th>sales</th>\n",
              "    </tr>\n",
              "  </thead>\n",
              "  <tbody>\n",
              "    <tr>\n",
              "      <th>0</th>\n",
              "      <td>2013-01-01</td>\n",
              "      <td>1</td>\n",
              "      <td>1</td>\n",
              "      <td>13</td>\n",
              "    </tr>\n",
              "    <tr>\n",
              "      <th>1</th>\n",
              "      <td>2013-01-02</td>\n",
              "      <td>1</td>\n",
              "      <td>1</td>\n",
              "      <td>11</td>\n",
              "    </tr>\n",
              "    <tr>\n",
              "      <th>2</th>\n",
              "      <td>2013-01-03</td>\n",
              "      <td>1</td>\n",
              "      <td>1</td>\n",
              "      <td>14</td>\n",
              "    </tr>\n",
              "    <tr>\n",
              "      <th>3</th>\n",
              "      <td>2013-01-04</td>\n",
              "      <td>1</td>\n",
              "      <td>1</td>\n",
              "      <td>13</td>\n",
              "    </tr>\n",
              "    <tr>\n",
              "      <th>4</th>\n",
              "      <td>2013-01-05</td>\n",
              "      <td>1</td>\n",
              "      <td>1</td>\n",
              "      <td>10</td>\n",
              "    </tr>\n",
              "  </tbody>\n",
              "</table>\n",
              "</div>"
            ],
            "text/plain": [
              "        date  store  item  sales\n",
              "0 2013-01-01      1     1     13\n",
              "1 2013-01-02      1     1     11\n",
              "2 2013-01-03      1     1     14\n",
              "3 2013-01-04      1     1     13\n",
              "4 2013-01-05      1     1     10"
            ]
          },
          "metadata": {},
          "execution_count": 148
        }
      ]
    },
    {
      "cell_type": "markdown",
      "metadata": {
        "id": "RZChnvwP6nYL"
      },
      "source": [
        "###BASIC EDA(Exploratory data Analysis)"
      ]
    },
    {
      "cell_type": "code",
      "metadata": {
        "colab": {
          "base_uri": "https://localhost:8080/"
        },
        "id": "tLHRk3gZwPwq",
        "outputId": "45dc33b7-a6bd-430e-cd92-7696d21e4fb9"
      },
      "source": [
        "#printing shape of the data\n",
        "df.shape"
      ],
      "execution_count": 82,
      "outputs": [
        {
          "output_type": "execute_result",
          "data": {
            "text/plain": [
              "(913000, 4)"
            ]
          },
          "metadata": {},
          "execution_count": 82
        }
      ]
    },
    {
      "cell_type": "code",
      "metadata": {
        "colab": {
          "base_uri": "https://localhost:8080/",
          "height": 300
        },
        "id": "m45VdjzQ7MKW",
        "outputId": "208bfc46-5c7d-4f10-ab4f-895f08d5cbf4"
      },
      "source": [
        "#Five point summary of the dataset\n",
        "df.describe()"
      ],
      "execution_count": 83,
      "outputs": [
        {
          "output_type": "execute_result",
          "data": {
            "text/html": [
              "<div>\n",
              "<style scoped>\n",
              "    .dataframe tbody tr th:only-of-type {\n",
              "        vertical-align: middle;\n",
              "    }\n",
              "\n",
              "    .dataframe tbody tr th {\n",
              "        vertical-align: top;\n",
              "    }\n",
              "\n",
              "    .dataframe thead th {\n",
              "        text-align: right;\n",
              "    }\n",
              "</style>\n",
              "<table border=\"1\" class=\"dataframe\">\n",
              "  <thead>\n",
              "    <tr style=\"text-align: right;\">\n",
              "      <th></th>\n",
              "      <th>store</th>\n",
              "      <th>item</th>\n",
              "      <th>sales</th>\n",
              "    </tr>\n",
              "  </thead>\n",
              "  <tbody>\n",
              "    <tr>\n",
              "      <th>count</th>\n",
              "      <td>913000.000000</td>\n",
              "      <td>913000.000000</td>\n",
              "      <td>913000.000000</td>\n",
              "    </tr>\n",
              "    <tr>\n",
              "      <th>mean</th>\n",
              "      <td>5.500000</td>\n",
              "      <td>25.500000</td>\n",
              "      <td>52.250287</td>\n",
              "    </tr>\n",
              "    <tr>\n",
              "      <th>std</th>\n",
              "      <td>2.872283</td>\n",
              "      <td>14.430878</td>\n",
              "      <td>28.801144</td>\n",
              "    </tr>\n",
              "    <tr>\n",
              "      <th>min</th>\n",
              "      <td>1.000000</td>\n",
              "      <td>1.000000</td>\n",
              "      <td>0.000000</td>\n",
              "    </tr>\n",
              "    <tr>\n",
              "      <th>25%</th>\n",
              "      <td>3.000000</td>\n",
              "      <td>13.000000</td>\n",
              "      <td>30.000000</td>\n",
              "    </tr>\n",
              "    <tr>\n",
              "      <th>50%</th>\n",
              "      <td>5.500000</td>\n",
              "      <td>25.500000</td>\n",
              "      <td>47.000000</td>\n",
              "    </tr>\n",
              "    <tr>\n",
              "      <th>75%</th>\n",
              "      <td>8.000000</td>\n",
              "      <td>38.000000</td>\n",
              "      <td>70.000000</td>\n",
              "    </tr>\n",
              "    <tr>\n",
              "      <th>max</th>\n",
              "      <td>10.000000</td>\n",
              "      <td>50.000000</td>\n",
              "      <td>231.000000</td>\n",
              "    </tr>\n",
              "  </tbody>\n",
              "</table>\n",
              "</div>"
            ],
            "text/plain": [
              "               store           item          sales\n",
              "count  913000.000000  913000.000000  913000.000000\n",
              "mean        5.500000      25.500000      52.250287\n",
              "std         2.872283      14.430878      28.801144\n",
              "min         1.000000       1.000000       0.000000\n",
              "25%         3.000000      13.000000      30.000000\n",
              "50%         5.500000      25.500000      47.000000\n",
              "75%         8.000000      38.000000      70.000000\n",
              "max        10.000000      50.000000     231.000000"
            ]
          },
          "metadata": {},
          "execution_count": 83
        }
      ]
    },
    {
      "cell_type": "code",
      "metadata": {
        "colab": {
          "base_uri": "https://localhost:8080/"
        },
        "id": "r6iF1ieb7fmg",
        "outputId": "3db50190-8e15-4207-f096-0d6cb453a196"
      },
      "source": [
        "#checking for the missing values\n",
        "df.isnull().sum()"
      ],
      "execution_count": 84,
      "outputs": [
        {
          "output_type": "execute_result",
          "data": {
            "text/plain": [
              "date     0\n",
              "store    0\n",
              "item     0\n",
              "sales    0\n",
              "dtype: int64"
            ]
          },
          "metadata": {},
          "execution_count": 84
        }
      ]
    },
    {
      "cell_type": "code",
      "metadata": {
        "colab": {
          "base_uri": "https://localhost:8080/",
          "height": 296
        },
        "id": "WLsB1j8krcbF",
        "outputId": "cf02651a-f153-45b3-acf0-7c91a6cc79f7"
      },
      "source": [
        "#checking sales distribution\n",
        "sb.distplot(df.sales)"
      ],
      "execution_count": 85,
      "outputs": [
        {
          "output_type": "execute_result",
          "data": {
            "text/plain": [
              "<matplotlib.axes._subplots.AxesSubplot at 0x7f53f23e36d0>"
            ]
          },
          "metadata": {},
          "execution_count": 85
        },
        {
          "output_type": "display_data",
          "data": {
            "image/png": "[encoded data removed]",
            "text/plain": [
              "<Figure size 432x288 with 1 Axes>"
            ]
          },
          "metadata": {
            "needs_background": "light"
          }
        }
      ]
    },
    {
      "cell_type": "markdown",
      "metadata": {
        "id": "xZf-MpBA8FCy"
      },
      "source": [
        "##Observation \n",
        "it looks like sales follows a log normal disribution"
      ]
    },
    {
      "cell_type": "code",
      "metadata": {
        "colab": {
          "base_uri": "https://localhost:8080/",
          "height": 290
        },
        "id": "_fTcPKASCOTc",
        "outputId": "fd9db7ab-b5e1-4a39-eec0-3718b9cc72a7"
      },
      "source": [
        "\n",
        "#checking distribution of item sales for each store\n",
        "import warnings\n",
        "warnings.filterwarnings('ignore')\n",
        "for i in range(len(df['store'].unique())):\n",
        "  tmp=df[df['store']==i+1].groupby(['item'])['sales'].sum()\n",
        "  sb.distplot(tmp)"
      ],
      "execution_count": 86,
      "outputs": [
        {
          "output_type": "display_data",
          "data": {
            "image/png": "[encoded data removed]",
            "text/plain": [
              "<Figure size 432x288 with 1 Axes>"
            ]
          },
          "metadata": {
            "needs_background": "light"
          }
        }
      ]
    },
    {
      "cell_type": "markdown",
      "metadata": {
        "id": "wD16n4FEEesq"
      },
      "source": [
        "**distribution of item sales per store id follows more or less same pattern but sales value range is different for different store**\n",
        "####it makes more sense to train a different model for each store. This way we also reduce number of dimensions and sparse data representation in the dataset that is going as final input in the model for training"
      ]
    },
    {
      "cell_type": "code",
      "metadata": {
        "id": "22NeIfWaExhi"
      },
      "source": [
        "#Fearure Engineering\n",
        "#since we have a date column we can extract useful information like day of the week, month of the year etc\n",
        "#which will be useful in prediction of th sales \n",
        "df['month'] = df.date.dt.month # month of the year\n",
        "df['day_of_month'] = df.date.dt.day # day of the month\n",
        "df['day_of_year'] = df.date.dt.dayofyear # day of the year\n",
        "df['week_of_year'] = df.date.dt.weekofyear # week of year\n",
        "df['day_of_week'] = df.date.dt.dayofweek # day of the week of the each month\n",
        "df['year'] = df.date.dt.year # year\n",
        "df[\"is_wknd\"] = df.date.dt.weekday//4 # is it a weekday or weekend //4 gives 0 for mon to fri else give 1 \n",
        "df['is_month_start'] = df.date.dt.is_month_start.astype(int) #is it month start?\n",
        "df['is_month_end'] = df.date.dt.is_month_end.astype(int)     # is it month end?"
      ],
      "execution_count": 149,
      "outputs": []
    },
    {
      "cell_type": "code",
      "metadata": {
        "colab": {
          "base_uri": "https://localhost:8080/"
        },
        "id": "OYeogAe0IPpo",
        "outputId": "6acc19de-9d61-4a65-e53d-e38297dae9fc"
      },
      "source": [
        "df.info() #checking df after adding new feature columns"
      ],
      "execution_count": 150,
      "outputs": [
        {
          "output_type": "stream",
          "name": "stdout",
          "text": [
            "<class 'pandas.core.frame.DataFrame'>\n",
            "RangeIndex: 913000 entries, 0 to 912999\n",
            "Data columns (total 13 columns):\n",
            " #   Column          Non-Null Count   Dtype         \n",
            "---  ------          --------------   -----         \n",
            " 0   date            913000 non-null  datetime64[ns]\n",
            " 1   store           913000 non-null  int64         \n",
            " 2   item            913000 non-null  int64         \n",
            " 3   sales           913000 non-null  int64         \n",
            " 4   month           913000 non-null  int64         \n",
            " 5   day_of_month    913000 non-null  int64         \n",
            " 6   day_of_year     913000 non-null  int64         \n",
            " 7   week_of_year    913000 non-null  int64         \n",
            " 8   day_of_week     913000 non-null  int64         \n",
            " 9   year            913000 non-null  int64         \n",
            " 10  is_wknd         913000 non-null  int64         \n",
            " 11  is_month_start  913000 non-null  int64         \n",
            " 12  is_month_end    913000 non-null  int64         \n",
            "dtypes: datetime64[ns](1), int64(12)\n",
            "memory usage: 90.6 MB\n"
          ]
        }
      ]
    },
    {
      "cell_type": "code",
      "metadata": {
        "colab": {
          "base_uri": "https://localhost:8080/",
          "height": 313
        },
        "id": "ng2FWf58NwQg",
        "outputId": "a489caea-412e-4eed-c019-c5cd9cfe82f7"
      },
      "source": [
        "#doing hotencoding for the categorical variables in\n",
        "df = pd.get_dummies(df, columns=['item', 'day_of_week', 'month'])\n",
        "df.head()"
      ],
      "execution_count": 151,
      "outputs": [
        {
          "output_type": "execute_result",
          "data": {
            "text/html": [
              "<div>\n",
              "<style scoped>\n",
              "    .dataframe tbody tr th:only-of-type {\n",
              "        vertical-align: middle;\n",
              "    }\n",
              "\n",
              "    .dataframe tbody tr th {\n",
              "        vertical-align: top;\n",
              "    }\n",
              "\n",
              "    .dataframe thead th {\n",
              "        text-align: right;\n",
              "    }\n",
              "</style>\n",
              "<table border=\"1\" class=\"dataframe\">\n",
              "  <thead>\n",
              "    <tr style=\"text-align: right;\">\n",
              "      <th></th>\n",
              "      <th>date</th>\n",
              "      <th>store</th>\n",
              "      <th>sales</th>\n",
              "      <th>day_of_month</th>\n",
              "      <th>day_of_year</th>\n",
              "      <th>week_of_year</th>\n",
              "      <th>year</th>\n",
              "      <th>is_wknd</th>\n",
              "      <th>is_month_start</th>\n",
              "      <th>is_month_end</th>\n",
              "      <th>item_1</th>\n",
              "      <th>item_2</th>\n",
              "      <th>item_3</th>\n",
              "      <th>item_4</th>\n",
              "      <th>item_5</th>\n",
              "      <th>item_6</th>\n",
              "      <th>item_7</th>\n",
              "      <th>item_8</th>\n",
              "      <th>item_9</th>\n",
              "      <th>item_10</th>\n",
              "      <th>item_11</th>\n",
              "      <th>item_12</th>\n",
              "      <th>item_13</th>\n",
              "      <th>item_14</th>\n",
              "      <th>item_15</th>\n",
              "      <th>item_16</th>\n",
              "      <th>item_17</th>\n",
              "      <th>item_18</th>\n",
              "      <th>item_19</th>\n",
              "      <th>item_20</th>\n",
              "      <th>item_21</th>\n",
              "      <th>item_22</th>\n",
              "      <th>item_23</th>\n",
              "      <th>item_24</th>\n",
              "      <th>item_25</th>\n",
              "      <th>item_26</th>\n",
              "      <th>item_27</th>\n",
              "      <th>item_28</th>\n",
              "      <th>item_29</th>\n",
              "      <th>item_30</th>\n",
              "      <th>item_31</th>\n",
              "      <th>item_32</th>\n",
              "      <th>item_33</th>\n",
              "      <th>item_34</th>\n",
              "      <th>item_35</th>\n",
              "      <th>item_36</th>\n",
              "      <th>item_37</th>\n",
              "      <th>item_38</th>\n",
              "      <th>item_39</th>\n",
              "      <th>item_40</th>\n",
              "      <th>item_41</th>\n",
              "      <th>item_42</th>\n",
              "      <th>item_43</th>\n",
              "      <th>item_44</th>\n",
              "      <th>item_45</th>\n",
              "      <th>item_46</th>\n",
              "      <th>item_47</th>\n",
              "      <th>item_48</th>\n",
              "      <th>item_49</th>\n",
              "      <th>item_50</th>\n",
              "      <th>day_of_week_0</th>\n",
              "      <th>day_of_week_1</th>\n",
              "      <th>day_of_week_2</th>\n",
              "      <th>day_of_week_3</th>\n",
              "      <th>day_of_week_4</th>\n",
              "      <th>day_of_week_5</th>\n",
              "      <th>day_of_week_6</th>\n",
              "      <th>month_1</th>\n",
              "      <th>month_2</th>\n",
              "      <th>month_3</th>\n",
              "      <th>month_4</th>\n",
              "      <th>month_5</th>\n",
              "      <th>month_6</th>\n",
              "      <th>month_7</th>\n",
              "      <th>month_8</th>\n",
              "      <th>month_9</th>\n",
              "      <th>month_10</th>\n",
              "      <th>month_11</th>\n",
              "      <th>month_12</th>\n",
              "    </tr>\n",
              "  </thead>\n",
              "  <tbody>\n",
              "    <tr>\n",
              "      <th>0</th>\n",
              "      <td>2013-01-01</td>\n",
              "      <td>1</td>\n",
              "      <td>13</td>\n",
              "      <td>1</td>\n",
              "      <td>1</td>\n",
              "      <td>1</td>\n",
              "      <td>2013</td>\n",
              "      <td>0</td>\n",
              "      <td>1</td>\n",
              "      <td>0</td>\n",
              "      <td>1</td>\n",
              "      <td>0</td>\n",
              "      <td>0</td>\n",
              "      <td>0</td>\n",
              "      <td>0</td>\n",
              "      <td>0</td>\n",
              "      <td>0</td>\n",
              "      <td>0</td>\n",
              "      <td>0</td>\n",
              "      <td>0</td>\n",
              "      <td>0</td>\n",
              "      <td>0</td>\n",
              "      <td>0</td>\n",
              "      <td>0</td>\n",
              "      <td>0</td>\n",
              "      <td>0</td>\n",
              "      <td>0</td>\n",
              "      <td>0</td>\n",
              "      <td>0</td>\n",
              "      <td>0</td>\n",
              "      <td>0</td>\n",
              "      <td>0</td>\n",
              "      <td>0</td>\n",
              "      <td>0</td>\n",
              "      <td>0</td>\n",
              "      <td>0</td>\n",
              "      <td>0</td>\n",
              "      <td>0</td>\n",
              "      <td>0</td>\n",
              "      <td>0</td>\n",
              "      <td>0</td>\n",
              "      <td>0</td>\n",
              "      <td>0</td>\n",
              "      <td>0</td>\n",
              "      <td>0</td>\n",
              "      <td>0</td>\n",
              "      <td>0</td>\n",
              "      <td>0</td>\n",
              "      <td>0</td>\n",
              "      <td>0</td>\n",
              "      <td>0</td>\n",
              "      <td>0</td>\n",
              "      <td>0</td>\n",
              "      <td>0</td>\n",
              "      <td>0</td>\n",
              "      <td>0</td>\n",
              "      <td>0</td>\n",
              "      <td>0</td>\n",
              "      <td>0</td>\n",
              "      <td>0</td>\n",
              "      <td>0</td>\n",
              "      <td>1</td>\n",
              "      <td>0</td>\n",
              "      <td>0</td>\n",
              "      <td>0</td>\n",
              "      <td>0</td>\n",
              "      <td>0</td>\n",
              "      <td>1</td>\n",
              "      <td>0</td>\n",
              "      <td>0</td>\n",
              "      <td>0</td>\n",
              "      <td>0</td>\n",
              "      <td>0</td>\n",
              "      <td>0</td>\n",
              "      <td>0</td>\n",
              "      <td>0</td>\n",
              "      <td>0</td>\n",
              "      <td>0</td>\n",
              "      <td>0</td>\n",
              "    </tr>\n",
              "    <tr>\n",
              "      <th>1</th>\n",
              "      <td>2013-01-02</td>\n",
              "      <td>1</td>\n",
              "      <td>11</td>\n",
              "      <td>2</td>\n",
              "      <td>2</td>\n",
              "      <td>1</td>\n",
              "      <td>2013</td>\n",
              "      <td>0</td>\n",
              "      <td>0</td>\n",
              "      <td>0</td>\n",
              "      <td>1</td>\n",
              "      <td>0</td>\n",
              "      <td>0</td>\n",
              "      <td>0</td>\n",
              "      <td>0</td>\n",
              "      <td>0</td>\n",
              "      <td>0</td>\n",
              "      <td>0</td>\n",
              "      <td>0</td>\n",
              "      <td>0</td>\n",
              "      <td>0</td>\n",
              "      <td>0</td>\n",
              "      <td>0</td>\n",
              "      <td>0</td>\n",
              "      <td>0</td>\n",
              "      <td>0</td>\n",
              "      <td>0</td>\n",
              "      <td>0</td>\n",
              "      <td>0</td>\n",
              "      <td>0</td>\n",
              "      <td>0</td>\n",
              "      <td>0</td>\n",
              "      <td>0</td>\n",
              "      <td>0</td>\n",
              "      <td>0</td>\n",
              "      <td>0</td>\n",
              "      <td>0</td>\n",
              "      <td>0</td>\n",
              "      <td>0</td>\n",
              "      <td>0</td>\n",
              "      <td>0</td>\n",
              "      <td>0</td>\n",
              "      <td>0</td>\n",
              "      <td>0</td>\n",
              "      <td>0</td>\n",
              "      <td>0</td>\n",
              "      <td>0</td>\n",
              "      <td>0</td>\n",
              "      <td>0</td>\n",
              "      <td>0</td>\n",
              "      <td>0</td>\n",
              "      <td>0</td>\n",
              "      <td>0</td>\n",
              "      <td>0</td>\n",
              "      <td>0</td>\n",
              "      <td>0</td>\n",
              "      <td>0</td>\n",
              "      <td>0</td>\n",
              "      <td>0</td>\n",
              "      <td>0</td>\n",
              "      <td>0</td>\n",
              "      <td>0</td>\n",
              "      <td>1</td>\n",
              "      <td>0</td>\n",
              "      <td>0</td>\n",
              "      <td>0</td>\n",
              "      <td>0</td>\n",
              "      <td>1</td>\n",
              "      <td>0</td>\n",
              "      <td>0</td>\n",
              "      <td>0</td>\n",
              "      <td>0</td>\n",
              "      <td>0</td>\n",
              "      <td>0</td>\n",
              "      <td>0</td>\n",
              "      <td>0</td>\n",
              "      <td>0</td>\n",
              "      <td>0</td>\n",
              "      <td>0</td>\n",
              "    </tr>\n",
              "    <tr>\n",
              "      <th>2</th>\n",
              "      <td>2013-01-03</td>\n",
              "      <td>1</td>\n",
              "      <td>14</td>\n",
              "      <td>3</td>\n",
              "      <td>3</td>\n",
              "      <td>1</td>\n",
              "      <td>2013</td>\n",
              "      <td>0</td>\n",
              "      <td>0</td>\n",
              "      <td>0</td>\n",
              "      <td>1</td>\n",
              "      <td>0</td>\n",
              "      <td>0</td>\n",
              "      <td>0</td>\n",
              "      <td>0</td>\n",
              "      <td>0</td>\n",
              "      <td>0</td>\n",
              "      <td>0</td>\n",
              "      <td>0</td>\n",
              "      <td>0</td>\n",
              "      <td>0</td>\n",
              "      <td>0</td>\n",
              "      <td>0</td>\n",
              "      <td>0</td>\n",
              "      <td>0</td>\n",
              "      <td>0</td>\n",
              "      <td>0</td>\n",
              "      <td>0</td>\n",
              "      <td>0</td>\n",
              "      <td>0</td>\n",
              "      <td>0</td>\n",
              "      <td>0</td>\n",
              "      <td>0</td>\n",
              "      <td>0</td>\n",
              "      <td>0</td>\n",
              "      <td>0</td>\n",
              "      <td>0</td>\n",
              "      <td>0</td>\n",
              "      <td>0</td>\n",
              "      <td>0</td>\n",
              "      <td>0</td>\n",
              "      <td>0</td>\n",
              "      <td>0</td>\n",
              "      <td>0</td>\n",
              "      <td>0</td>\n",
              "      <td>0</td>\n",
              "      <td>0</td>\n",
              "      <td>0</td>\n",
              "      <td>0</td>\n",
              "      <td>0</td>\n",
              "      <td>0</td>\n",
              "      <td>0</td>\n",
              "      <td>0</td>\n",
              "      <td>0</td>\n",
              "      <td>0</td>\n",
              "      <td>0</td>\n",
              "      <td>0</td>\n",
              "      <td>0</td>\n",
              "      <td>0</td>\n",
              "      <td>0</td>\n",
              "      <td>0</td>\n",
              "      <td>0</td>\n",
              "      <td>0</td>\n",
              "      <td>1</td>\n",
              "      <td>0</td>\n",
              "      <td>0</td>\n",
              "      <td>0</td>\n",
              "      <td>1</td>\n",
              "      <td>0</td>\n",
              "      <td>0</td>\n",
              "      <td>0</td>\n",
              "      <td>0</td>\n",
              "      <td>0</td>\n",
              "      <td>0</td>\n",
              "      <td>0</td>\n",
              "      <td>0</td>\n",
              "      <td>0</td>\n",
              "      <td>0</td>\n",
              "      <td>0</td>\n",
              "    </tr>\n",
              "    <tr>\n",
              "      <th>3</th>\n",
              "      <td>2013-01-04</td>\n",
              "      <td>1</td>\n",
              "      <td>13</td>\n",
              "      <td>4</td>\n",
              "      <td>4</td>\n",
              "      <td>1</td>\n",
              "      <td>2013</td>\n",
              "      <td>1</td>\n",
              "      <td>0</td>\n",
              "      <td>0</td>\n",
              "      <td>1</td>\n",
              "      <td>0</td>\n",
              "      <td>0</td>\n",
              "      <td>0</td>\n",
              "      <td>0</td>\n",
              "      <td>0</td>\n",
              "      <td>0</td>\n",
              "      <td>0</td>\n",
              "      <td>0</td>\n",
              "      <td>0</td>\n",
              "      <td>0</td>\n",
              "      <td>0</td>\n",
              "      <td>0</td>\n",
              "      <td>0</td>\n",
              "      <td>0</td>\n",
              "      <td>0</td>\n",
              "      <td>0</td>\n",
              "      <td>0</td>\n",
              "      <td>0</td>\n",
              "      <td>0</td>\n",
              "      <td>0</td>\n",
              "      <td>0</td>\n",
              "      <td>0</td>\n",
              "      <td>0</td>\n",
              "      <td>0</td>\n",
              "      <td>0</td>\n",
              "      <td>0</td>\n",
              "      <td>0</td>\n",
              "      <td>0</td>\n",
              "      <td>0</td>\n",
              "      <td>0</td>\n",
              "      <td>0</td>\n",
              "      <td>0</td>\n",
              "      <td>0</td>\n",
              "      <td>0</td>\n",
              "      <td>0</td>\n",
              "      <td>0</td>\n",
              "      <td>0</td>\n",
              "      <td>0</td>\n",
              "      <td>0</td>\n",
              "      <td>0</td>\n",
              "      <td>0</td>\n",
              "      <td>0</td>\n",
              "      <td>0</td>\n",
              "      <td>0</td>\n",
              "      <td>0</td>\n",
              "      <td>0</td>\n",
              "      <td>0</td>\n",
              "      <td>0</td>\n",
              "      <td>0</td>\n",
              "      <td>0</td>\n",
              "      <td>0</td>\n",
              "      <td>0</td>\n",
              "      <td>0</td>\n",
              "      <td>1</td>\n",
              "      <td>0</td>\n",
              "      <td>0</td>\n",
              "      <td>1</td>\n",
              "      <td>0</td>\n",
              "      <td>0</td>\n",
              "      <td>0</td>\n",
              "      <td>0</td>\n",
              "      <td>0</td>\n",
              "      <td>0</td>\n",
              "      <td>0</td>\n",
              "      <td>0</td>\n",
              "      <td>0</td>\n",
              "      <td>0</td>\n",
              "      <td>0</td>\n",
              "    </tr>\n",
              "    <tr>\n",
              "      <th>4</th>\n",
              "      <td>2013-01-05</td>\n",
              "      <td>1</td>\n",
              "      <td>10</td>\n",
              "      <td>5</td>\n",
              "      <td>5</td>\n",
              "      <td>1</td>\n",
              "      <td>2013</td>\n",
              "      <td>1</td>\n",
              "      <td>0</td>\n",
              "      <td>0</td>\n",
              "      <td>1</td>\n",
              "      <td>0</td>\n",
              "      <td>0</td>\n",
              "      <td>0</td>\n",
              "      <td>0</td>\n",
              "      <td>0</td>\n",
              "      <td>0</td>\n",
              "      <td>0</td>\n",
              "      <td>0</td>\n",
              "      <td>0</td>\n",
              "      <td>0</td>\n",
              "      <td>0</td>\n",
              "      <td>0</td>\n",
              "      <td>0</td>\n",
              "      <td>0</td>\n",
              "      <td>0</td>\n",
              "      <td>0</td>\n",
              "      <td>0</td>\n",
              "      <td>0</td>\n",
              "      <td>0</td>\n",
              "      <td>0</td>\n",
              "      <td>0</td>\n",
              "      <td>0</td>\n",
              "      <td>0</td>\n",
              "      <td>0</td>\n",
              "      <td>0</td>\n",
              "      <td>0</td>\n",
              "      <td>0</td>\n",
              "      <td>0</td>\n",
              "      <td>0</td>\n",
              "      <td>0</td>\n",
              "      <td>0</td>\n",
              "      <td>0</td>\n",
              "      <td>0</td>\n",
              "      <td>0</td>\n",
              "      <td>0</td>\n",
              "      <td>0</td>\n",
              "      <td>0</td>\n",
              "      <td>0</td>\n",
              "      <td>0</td>\n",
              "      <td>0</td>\n",
              "      <td>0</td>\n",
              "      <td>0</td>\n",
              "      <td>0</td>\n",
              "      <td>0</td>\n",
              "      <td>0</td>\n",
              "      <td>0</td>\n",
              "      <td>0</td>\n",
              "      <td>0</td>\n",
              "      <td>0</td>\n",
              "      <td>0</td>\n",
              "      <td>0</td>\n",
              "      <td>0</td>\n",
              "      <td>0</td>\n",
              "      <td>0</td>\n",
              "      <td>1</td>\n",
              "      <td>0</td>\n",
              "      <td>1</td>\n",
              "      <td>0</td>\n",
              "      <td>0</td>\n",
              "      <td>0</td>\n",
              "      <td>0</td>\n",
              "      <td>0</td>\n",
              "      <td>0</td>\n",
              "      <td>0</td>\n",
              "      <td>0</td>\n",
              "      <td>0</td>\n",
              "      <td>0</td>\n",
              "      <td>0</td>\n",
              "    </tr>\n",
              "  </tbody>\n",
              "</table>\n",
              "</div>"
            ],
            "text/plain": [
              "        date  store  sales  day_of_month  ...  month_9  month_10  month_11  month_12\n",
              "0 2013-01-01      1     13             1  ...        0         0         0         0\n",
              "1 2013-01-02      1     11             2  ...        0         0         0         0\n",
              "2 2013-01-03      1     14             3  ...        0         0         0         0\n",
              "3 2013-01-04      1     13             4  ...        0         0         0         0\n",
              "4 2013-01-05      1     10             5  ...        0         0         0         0\n",
              "\n",
              "[5 rows x 79 columns]"
            ]
          },
          "metadata": {},
          "execution_count": 151
        }
      ]
    },
    {
      "cell_type": "code",
      "metadata": {
        "colab": {
          "base_uri": "https://localhost:8080/"
        },
        "id": "88eSo8dWPfo3",
        "outputId": "cca28b1c-cb2a-44ed-d157-c2746444e7ea"
      },
      "source": [
        "#year wise distribution for the time based splitting and training\n",
        "df.year.value_counts()"
      ],
      "execution_count": 153,
      "outputs": [
        {
          "output_type": "execute_result",
          "data": {
            "text/plain": [
              "2016    183000\n",
              "2017    182500\n",
              "2015    182500\n",
              "2014    182500\n",
              "2013    182500\n",
              "Name: year, dtype: int64"
            ]
          },
          "metadata": {},
          "execution_count": 153
        }
      ]
    },
    {
      "cell_type": "code",
      "metadata": {
        "id": "3uypfDOkTagy"
      },
      "source": [
        "#since sales data distribution seems like log normal we can consider taking log transformation to normalize the data \n",
        "df['sales'] = np.log1p(df[\"sales\"].values)"
      ],
      "execution_count": 93,
      "outputs": []
    },
    {
      "cell_type": "markdown",
      "metadata": {
        "id": "PxgaAEZ5elF6"
      },
      "source": [
        "<br><br>\n",
        "##I am training models for the store 2 only for the sake of training time involved in deeplearning and gradientboosting models\n",
        "<br><br>\n",
        "**Gradientboosting is choosen because it tends to perform better compare to other classical ml algorithms for the high dimension and sparse dataset(due to hot-encoding applied on the categorical variable)** "
      ]
    },
    {
      "cell_type": "code",
      "metadata": {
        "colab": {
          "base_uri": "https://localhost:8080/"
        },
        "id": "VZb8VPwgPPWj",
        "outputId": "b88740ed-aae2-4d2c-c5c8-7251b59ed643"
      },
      "source": [
        "#taking 2017 data for the testing and remaining for the training (doing time based splitting)\n",
        "data_test=df[(df['store']==2) & (df['year']==2017)]\n",
        "data_train=df[(df['store']==2) & (df['year'] != 2017)]\n",
        "data_train.year.unique()"
      ],
      "execution_count": 105,
      "outputs": [
        {
          "output_type": "execute_result",
          "data": {
            "text/plain": [
              "array([2013, 2014, 2015, 2016])"
            ]
          },
          "metadata": {},
          "execution_count": 105
        }
      ]
    },
    {
      "cell_type": "code",
      "metadata": {
        "colab": {
          "base_uri": "https://localhost:8080/"
        },
        "id": "7fJMypb0IwVz",
        "outputId": "fc8f90b3-5713-48bf-ad2c-3abfc0a3ba7d"
      },
      "source": [
        "data_test.year.unique() #verifying the timebased split"
      ],
      "execution_count": 106,
      "outputs": [
        {
          "output_type": "execute_result",
          "data": {
            "text/plain": [
              "array([2017])"
            ]
          },
          "metadata": {},
          "execution_count": 106
        }
      ]
    },
    {
      "cell_type": "code",
      "metadata": {
        "id": "if5vA_R8SeVA"
      },
      "source": [
        "#selecting columns for training and testing\n",
        "cols = [col for col in df.columns if col not in ['store','date', 'id', \"sales\", \"year\"]]\n",
        "x_train=data_train[cols]\n",
        "x_test=data_test[cols]\n",
        "y_train=data_train['sales']\n",
        "y_test=data_test['sales']\n"
      ],
      "execution_count": 108,
      "outputs": []
    },
    {
      "cell_type": "code",
      "metadata": {
        "id": "Iby2PKS5js_m"
      },
      "source": [
        "#using gradient boosting algorithm\n",
        "from sklearn.ensemble import GradientBoostingRegressor"
      ],
      "execution_count": 113,
      "outputs": []
    },
    {
      "cell_type": "code",
      "metadata": {
        "colab": {
          "base_uri": "https://localhost:8080/"
        },
        "id": "pTQr8vasj3AL",
        "outputId": "aa280c83-26f1-4bbe-cb39-8735b521d673"
      },
      "source": [
        "#training the model\n",
        "reg = GradientBoostingRegressor(random_state=0)\n",
        "reg.fit(x_train, y_train)"
      ],
      "execution_count": 114,
      "outputs": [
        {
          "output_type": "execute_result",
          "data": {
            "text/plain": [
              "GradientBoostingRegressor(random_state=0)"
            ]
          },
          "metadata": {},
          "execution_count": 114
        }
      ]
    },
    {
      "cell_type": "code",
      "metadata": {
        "id": "GWzORCcIZk2t"
      },
      "source": [
        "#predicting the sales\n",
        "y_pred=reg.predict(x_test)"
      ],
      "execution_count": 115,
      "outputs": []
    },
    {
      "cell_type": "code",
      "metadata": {
        "colab": {
          "base_uri": "https://localhost:8080/"
        },
        "id": "mFZRK6HrkklT",
        "outputId": "7dc5cc15-ca80-4bf7-ae12-2ea2eacc2a36"
      },
      "source": [
        "#calculating mean abslute error\n",
        "mae = sum(np.abs(y_pred - y_test))/len(y_test)\n",
        "mae"
      ],
      "execution_count": 116,
      "outputs": [
        {
          "output_type": "execute_result",
          "data": {
            "text/plain": [
              "0.2401591402112335"
            ]
          },
          "metadata": {},
          "execution_count": 116
        }
      ]
    },
    {
      "cell_type": "code",
      "metadata": {
        "colab": {
          "base_uri": "https://localhost:8080/"
        },
        "id": "6Wfh4K5cKH6l",
        "outputId": "679fa31c-16f0-4f72-b227-5c24716313b1"
      },
      "source": [
        "#calculating mean absolute percentage error\n",
        "(sum(np.abs((y_test-y_pred)/y_test))/len(y_test))*100"
      ],
      "execution_count": 118,
      "outputs": [
        {
          "output_type": "execute_result",
          "data": {
            "text/plain": [
              "5.552289902891808"
            ]
          },
          "metadata": {},
          "execution_count": 118
        }
      ]
    },
    {
      "cell_type": "markdown",
      "metadata": {
        "id": "9x42A6bfczOy"
      },
      "source": [
        "## Trying Deep Learning approach,Training a basic neural network from scratch\n"
      ]
    },
    {
      "cell_type": "code",
      "metadata": {
        "id": "nRz0U2K_ca6c"
      },
      "source": [
        "#importing libraries for deeplearning\n",
        "import tensorflow\n",
        "from keras.models import Sequential\n",
        "from keras.layers import Flatten,Dense,Dropout"
      ],
      "execution_count": 120,
      "outputs": []
    },
    {
      "cell_type": "code",
      "metadata": {
        "id": "ZfsvgqYSrcKy"
      },
      "source": [
        "model=Sequential()\n",
        "model.add(Flatten(input_shape=x_train.shape[1:]))\n",
        "model.add(Dense(8,activation=\"relu\"))\n",
        "model.add(Dense(4,activation=\"relu\"))\n",
        "model.add(Dense(1,activation=\"linear\"))"
      ],
      "execution_count": 121,
      "outputs": []
    },
    {
      "cell_type": "code",
      "metadata": {
        "id": "XJ3XyhwprmLj"
      },
      "source": [
        "model.compile(loss=\"mean_absolute_percentage_error\",optimizer=\"adam\")"
      ],
      "execution_count": 122,
      "outputs": []
    },
    {
      "cell_type": "code",
      "metadata": {
        "colab": {
          "base_uri": "https://localhost:8080/"
        },
        "id": "gPzYjMc6rw_k",
        "outputId": "5d0c5dca-0ec3-49a3-9ee9-f2cb991cf272"
      },
      "source": [
        "model.fit(x_train,y_train,epochs=50,batch_size=8)"
      ],
      "execution_count": 123,
      "outputs": [
        {
          "output_type": "stream",
          "name": "stdout",
          "text": [
            "Epoch 1/50\n",
            "9132/9132 [==============================] - 16s 2ms/step - loss: 6.8369\n",
            "Epoch 2/50\n",
            "9132/9132 [==============================] - 16s 2ms/step - loss: 4.5596\n",
            "Epoch 3/50\n",
            "9132/9132 [==============================] - 16s 2ms/step - loss: 4.4222\n",
            "Epoch 4/50\n",
            "9132/9132 [==============================] - 16s 2ms/step - loss: 4.2709\n",
            "Epoch 5/50\n",
            "9132/9132 [==============================] - 16s 2ms/step - loss: 4.2279\n",
            "Epoch 6/50\n",
            "9132/9132 [==============================] - 16s 2ms/step - loss: 4.0556\n",
            "Epoch 7/50\n",
            "9132/9132 [==============================] - 15s 2ms/step - loss: 4.0284\n",
            "Epoch 8/50\n",
            "9132/9132 [==============================] - 15s 2ms/step - loss: 3.9502\n",
            "Epoch 9/50\n",
            "9132/9132 [==============================] - 15s 2ms/step - loss: 3.9228\n",
            "Epoch 10/50\n",
            "9132/9132 [==============================] - 16s 2ms/step - loss: 3.8664\n",
            "Epoch 11/50\n",
            "9132/9132 [==============================] - 15s 2ms/step - loss: 3.8611\n",
            "Epoch 12/50\n",
            "9132/9132 [==============================] - 16s 2ms/step - loss: 3.7880\n",
            "Epoch 13/50\n",
            "9132/9132 [==============================] - 15s 2ms/step - loss: 3.7729\n",
            "Epoch 14/50\n",
            "9132/9132 [==============================] - 15s 2ms/step - loss: 3.7334\n",
            "Epoch 15/50\n",
            "9132/9132 [==============================] - 15s 2ms/step - loss: 3.7119\n",
            "Epoch 16/50\n",
            "9132/9132 [==============================] - 15s 2ms/step - loss: 3.6811\n",
            "Epoch 17/50\n",
            "9132/9132 [==============================] - 15s 2ms/step - loss: 3.6745\n",
            "Epoch 18/50\n",
            "9132/9132 [==============================] - 16s 2ms/step - loss: 3.6587\n",
            "Epoch 19/50\n",
            "9132/9132 [==============================] - 15s 2ms/step - loss: 3.6507\n",
            "Epoch 20/50\n",
            "9132/9132 [==============================] - 15s 2ms/step - loss: 3.6452\n",
            "Epoch 21/50\n",
            "9132/9132 [==============================] - 15s 2ms/step - loss: 3.6159\n",
            "Epoch 22/50\n",
            "9132/9132 [==============================] - 16s 2ms/step - loss: 3.6172\n",
            "Epoch 23/50\n",
            "9132/9132 [==============================] - 15s 2ms/step - loss: 3.6012\n",
            "Epoch 24/50\n",
            "9132/9132 [==============================] - 16s 2ms/step - loss: 3.5831\n",
            "Epoch 25/50\n",
            "9132/9132 [==============================] - 16s 2ms/step - loss: 3.5713\n",
            "Epoch 26/50\n",
            "9132/9132 [==============================] - 16s 2ms/step - loss: 3.5746\n",
            "Epoch 27/50\n",
            "9132/9132 [==============================] - 15s 2ms/step - loss: 3.5540\n",
            "Epoch 28/50\n",
            "9132/9132 [==============================] - 15s 2ms/step - loss: 3.5419\n",
            "Epoch 29/50\n",
            "9132/9132 [==============================] - 15s 2ms/step - loss: 3.5537\n",
            "Epoch 30/50\n",
            "9132/9132 [==============================] - 15s 2ms/step - loss: 3.5394\n",
            "Epoch 31/50\n",
            "9132/9132 [==============================] - 15s 2ms/step - loss: 3.5293\n",
            "Epoch 32/50\n",
            "9132/9132 [==============================] - 16s 2ms/step - loss: 3.5228\n",
            "Epoch 33/50\n",
            "9132/9132 [==============================] - 17s 2ms/step - loss: 3.5170\n",
            "Epoch 34/50\n",
            "9132/9132 [==============================] - 16s 2ms/step - loss: 3.5099\n",
            "Epoch 35/50\n",
            "9132/9132 [==============================] - 16s 2ms/step - loss: 3.5018\n",
            "Epoch 36/50\n",
            "9132/9132 [==============================] - 16s 2ms/step - loss: 3.5008\n",
            "Epoch 37/50\n",
            "9132/9132 [==============================] - 16s 2ms/step - loss: 3.4884\n",
            "Epoch 38/50\n",
            "9132/9132 [==============================] - 15s 2ms/step - loss: 3.4992\n",
            "Epoch 39/50\n",
            "9132/9132 [==============================] - 15s 2ms/step - loss: 3.4921\n",
            "Epoch 40/50\n",
            "9132/9132 [==============================] - 15s 2ms/step - loss: 3.4865\n",
            "Epoch 41/50\n",
            "9132/9132 [==============================] - 15s 2ms/step - loss: 3.4871\n",
            "Epoch 42/50\n",
            "9132/9132 [==============================] - 16s 2ms/step - loss: 3.4884\n",
            "Epoch 43/50\n",
            "9132/9132 [==============================] - 15s 2ms/step - loss: 3.4845\n",
            "Epoch 44/50\n",
            "9132/9132 [==============================] - 16s 2ms/step - loss: 3.4773\n",
            "Epoch 45/50\n",
            "9132/9132 [==============================] - 15s 2ms/step - loss: 3.4831\n",
            "Epoch 46/50\n",
            "9132/9132 [==============================] - 15s 2ms/step - loss: 3.4775\n",
            "Epoch 47/50\n",
            "9132/9132 [==============================] - 15s 2ms/step - loss: 3.4705\n",
            "Epoch 48/50\n",
            "9132/9132 [==============================] - 15s 2ms/step - loss: 3.4739\n",
            "Epoch 49/50\n",
            "9132/9132 [==============================] - 15s 2ms/step - loss: 3.4664\n",
            "Epoch 50/50\n",
            "9132/9132 [==============================] - 15s 2ms/step - loss: 3.4664\n"
          ]
        },
        {
          "output_type": "execute_result",
          "data": {
            "text/plain": [
              "<keras.callbacks.History at 0x7f538c10de10>"
            ]
          },
          "metadata": {},
          "execution_count": 123
        }
      ]
    },
    {
      "cell_type": "code",
      "metadata": {
        "colab": {
          "base_uri": "https://localhost:8080/"
        },
        "id": "qpDNNBZnlYo6",
        "outputId": "38bfff5e-3717-490d-ae17-32416fee7ab7"
      },
      "source": [
        "#predicting using model\n",
        "y_pred=model.predict(x_test)\n",
        "mae= sum(np.abs(y_pred.ravel() - y_test))/len(y_test)\n",
        "mae"
      ],
      "execution_count": 130,
      "outputs": [
        {
          "output_type": "execute_result",
          "data": {
            "text/plain": [
              "0.1478613822461597"
            ]
          },
          "metadata": {},
          "execution_count": 130
        }
      ]
    },
    {
      "cell_type": "code",
      "metadata": {
        "colab": {
          "base_uri": "https://localhost:8080/"
        },
        "id": "VvOa7pLD0fs3",
        "outputId": "8d9661e8-feea-42ea-a9b3-1add23394c05"
      },
      "source": [
        "\n",
        "#calculating mean absolute percentage error\n",
        "(sum(np.abs((y_test-y_pred.ravel())/y_test))/len(y_test))*100"
      ],
      "execution_count": 137,
      "outputs": [
        {
          "output_type": "execute_result",
          "data": {
            "text/plain": [
              "3.5727928188044955"
            ]
          },
          "metadata": {},
          "execution_count": 137
        }
      ]
    },
    {
      "cell_type": "markdown",
      "metadata": {
        "id": "oPwtIAr_gwbz"
      },
      "source": [
        "#Deeplearning performs better compare to Gradientboosting Regression model here"
      ]
    }
  ]
}